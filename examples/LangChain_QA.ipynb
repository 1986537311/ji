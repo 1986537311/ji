{
 "cells": [
  {
   "cell_type": "markdown",
   "metadata": {},
   "source": [
    "# LangChain QA Application with Xinference and LangChain\n"
   ]
  },
  {
   "cell_type": "markdown",
   "metadata": {},
   "source": [
    "This demo walks through how to build an LLM-driven question-answering (QA) application with Xinference, Milvus, and LangChain."
   ]
  },
  {
   "cell_type": "markdown",
   "metadata": {},
   "source": [
    "## Deploy Xinference Locally or in a Distributed Cluster.\n",
    "\n",
    "For local deployment, run `xinference`. It will log an endpoint for you to use.\n",
    "\n",
    "To deploy Xinference in a cluster, first start an Xinference supervisor using the `xinference-supervisor`. You can also use the option -p to specify the port and -H to specify the host. The default port is 9997. If the default port is used, Xinference will choose an unused port for you. It will also log the endpoint for you to use.\n",
    "\n",
    "Then, start the Xinference workers using `xinference-worker` on each server you want to run them on. \n",
    "\n",
    "You can consult the README file from [Xinference](https://github.com/xorbitsai/inference) for more information.\n",
    "## Start a Model\n",
    "\n",
    "To use Xinference with LangChain, you need to first launch a model. You can use command line interface (CLI) to do so:"
   ]
  },
  {
   "cell_type": "code",
   "execution_count": 3,
   "metadata": {},
   "outputs": [
    {
     "name": "stdout",
     "output_type": "stream",
     "text": [
      "Model uid: 0494223c-381d-11ee-86a4-fa163e74fa2d\n"
     ]
    }
   ],
   "source": [
    "!xinference launch --model-name \"falcon-instruct\" --model-format pytorch --size-in-billions 40 -e \"http://127.0.0.1:12831\""
   ]
  },
  {
   "cell_type": "markdown",
   "metadata": {},
   "source": [
    "The command will return a model UID for you to use."
   ]
  },
  {
   "cell_type": "markdown",
   "metadata": {},
   "source": [
    "### Concurrent Version"
   ]
  },
  {
   "cell_type": "code",
   "execution_count": 4,
   "metadata": {},
   "outputs": [],
   "source": [
    "import threading\n",
    "def process_chunk(chunk, vector_store):\n",
    "    vector_store.add_documents(documents=[chunk])\n",
    "    print(f\"Added embeddings for chunk: {chunk}\")"
   ]
  },
  {
   "cell_type": "code",
   "execution_count": 6,
   "metadata": {},
   "outputs": [
    {
     "name": "stderr",
     "output_type": "stream",
     "text": [
      "RPC error: [list_indexes], <MilvusException: (code=1, message=err: find no available indexcoord, check indexcoord state\n",
      ", /__w/milvus-lite/milvus-lite/milvus_binary/milvus/internal/util/trace/stack_trace.go:51 github.com/milvus-io/milvus/internal/util/trace.StackTrace\n",
      "/__w/milvus-lite/milvus-lite/milvus_binary/milvus/internal/util/grpcclient/client.go:352 github.com/milvus-io/milvus/internal/util/grpcclient.(*ClientBase[...]).ReCall\n",
      "/__w/milvus-lite/milvus-lite/milvus_binary/milvus/internal/distributed/indexcoord/client/client.go:208 github.com/milvus-io/milvus/internal/distributed/indexcoord/client.(*Client).DescribeIndex\n",
      "/__w/milvus-lite/milvus-lite/milvus_binary/milvus/internal/proxy/task_index.go:494 github.com/milvus-io/milvus/internal/proxy.(*describeIndexTask).Execute\n",
      "/__w/milvus-lite/milvus-lite/milvus_binary/milvus/internal/proxy/task_scheduler.go:470 github.com/milvus-io/milvus/internal/proxy.(*taskScheduler).processTask\n",
      "/__w/milvus-lite/milvus-lite/milvus_binary/milvus/internal/proxy/task_scheduler.go:499 github.com/milvus-io/milvus/internal/proxy.(*taskScheduler).definitionLoop\n",
      "/usr/local/go/src/runtime/asm_amd64.s:1571 runtime.goexit\n",
      ")>, <Time:{'RPC start': '2023-08-11 16:33:20.319970', 'RPC error': '2023-08-11 16:33:20.321296'}>\n"
     ]
    },
    {
     "ename": "MilvusException",
     "evalue": "<MilvusException: (code=1, message=err: find no available indexcoord, check indexcoord state\n, /__w/milvus-lite/milvus-lite/milvus_binary/milvus/internal/util/trace/stack_trace.go:51 github.com/milvus-io/milvus/internal/util/trace.StackTrace\n/__w/milvus-lite/milvus-lite/milvus_binary/milvus/internal/util/grpcclient/client.go:352 github.com/milvus-io/milvus/internal/util/grpcclient.(*ClientBase[...]).ReCall\n/__w/milvus-lite/milvus-lite/milvus_binary/milvus/internal/distributed/indexcoord/client/client.go:208 github.com/milvus-io/milvus/internal/distributed/indexcoord/client.(*Client).DescribeIndex\n/__w/milvus-lite/milvus-lite/milvus_binary/milvus/internal/proxy/task_index.go:494 github.com/milvus-io/milvus/internal/proxy.(*describeIndexTask).Execute\n/__w/milvus-lite/milvus-lite/milvus_binary/milvus/internal/proxy/task_scheduler.go:470 github.com/milvus-io/milvus/internal/proxy.(*taskScheduler).processTask\n/__w/milvus-lite/milvus-lite/milvus_binary/milvus/internal/proxy/task_scheduler.go:499 github.com/milvus-io/milvus/internal/proxy.(*taskScheduler).definitionLoop\n/usr/local/go/src/runtime/asm_amd64.s:1571 runtime.goexit\n)>",
     "output_type": "error",
     "traceback": [
      "\u001b[0;31m---------------------------------------------------------------------------\u001b[0m",
      "\u001b[0;31mMilvusException\u001b[0m                           Traceback (most recent call last)",
      "    \u001b[0;31m[... skipping hidden 1 frame]\u001b[0m\n",
      "Cell \u001b[0;32mIn[6], line 24\u001b[0m\n\u001b[1;32m     22\u001b[0m connection_args \u001b[39m=\u001b[39m {\u001b[39m\"\u001b[39m\u001b[39mhost\u001b[39m\u001b[39m\"\u001b[39m: \u001b[39m\"\u001b[39m\u001b[39m0.0.0.0\u001b[39m\u001b[39m\"\u001b[39m, \u001b[39m\"\u001b[39m\u001b[39mport\u001b[39m\u001b[39m\"\u001b[39m: \u001b[39m\"\u001b[39m\u001b[39m19530\u001b[39m\u001b[39m\"\u001b[39m}\n\u001b[0;32m---> 24\u001b[0m vector_db \u001b[39m=\u001b[39m Milvus\u001b[39m.\u001b[39;49mfrom_documents(\n\u001b[1;32m     25\u001b[0m     [docs[\u001b[39m0\u001b[39;49m]],\n\u001b[1;32m     26\u001b[0m     xinference_embeddings,\n\u001b[1;32m     27\u001b[0m     connection_args\u001b[39m=\u001b[39;49mconnection_args,\n\u001b[1;32m     28\u001b[0m )\n\u001b[1;32m     30\u001b[0m num_threads \u001b[39m=\u001b[39m \u001b[39m5\u001b[39m  \n",
      "File \u001b[0;32m~/miniconda3/lib/python3.10/site-packages/langchain/vectorstores/base.py:420\u001b[0m, in \u001b[0;36mVectorStore.from_documents\u001b[0;34m(cls, documents, embedding, **kwargs)\u001b[0m\n\u001b[1;32m    419\u001b[0m metadatas \u001b[39m=\u001b[39m [d\u001b[39m.\u001b[39mmetadata \u001b[39mfor\u001b[39;00m d \u001b[39min\u001b[39;00m documents]\n\u001b[0;32m--> 420\u001b[0m \u001b[39mreturn\u001b[39;00m \u001b[39mcls\u001b[39;49m\u001b[39m.\u001b[39;49mfrom_texts(texts, embedding, metadatas\u001b[39m=\u001b[39;49mmetadatas, \u001b[39m*\u001b[39;49m\u001b[39m*\u001b[39;49mkwargs)\n",
      "File \u001b[0;32m~/miniconda3/lib/python3.10/site-packages/langchain/vectorstores/milvus.py:812\u001b[0m, in \u001b[0;36mMilvus.from_texts\u001b[0;34m(cls, texts, embedding, metadatas, collection_name, connection_args, consistency_level, index_params, search_params, drop_old, **kwargs)\u001b[0m\n\u001b[1;32m    789\u001b[0m \u001b[39m\u001b[39m\u001b[39m\"\"\"Create a Milvus collection, indexes it with HNSW, and insert data.\u001b[39;00m\n\u001b[1;32m    790\u001b[0m \n\u001b[1;32m    791\u001b[0m \u001b[39mArgs:\u001b[39;00m\n\u001b[0;32m   (...)\u001b[0m\n\u001b[1;32m    810\u001b[0m \u001b[39m    Milvus: Milvus Vector Store\u001b[39;00m\n\u001b[1;32m    811\u001b[0m \u001b[39m\"\"\"\u001b[39;00m\n\u001b[0;32m--> 812\u001b[0m vector_db \u001b[39m=\u001b[39m \u001b[39mcls\u001b[39;49m(\n\u001b[1;32m    813\u001b[0m     embedding_function\u001b[39m=\u001b[39;49membedding,\n\u001b[1;32m    814\u001b[0m     collection_name\u001b[39m=\u001b[39;49mcollection_name,\n\u001b[1;32m    815\u001b[0m     connection_args\u001b[39m=\u001b[39;49mconnection_args,\n\u001b[1;32m    816\u001b[0m     consistency_level\u001b[39m=\u001b[39;49mconsistency_level,\n\u001b[1;32m    817\u001b[0m     index_params\u001b[39m=\u001b[39;49mindex_params,\n\u001b[1;32m    818\u001b[0m     search_params\u001b[39m=\u001b[39;49msearch_params,\n\u001b[1;32m    819\u001b[0m     drop_old\u001b[39m=\u001b[39;49mdrop_old,\n\u001b[1;32m    820\u001b[0m     \u001b[39m*\u001b[39;49m\u001b[39m*\u001b[39;49mkwargs,\n\u001b[1;32m    821\u001b[0m )\n\u001b[1;32m    822\u001b[0m vector_db\u001b[39m.\u001b[39madd_texts(texts\u001b[39m=\u001b[39mtexts, metadatas\u001b[39m=\u001b[39mmetadatas)\n",
      "File \u001b[0;32m~/miniconda3/lib/python3.10/site-packages/langchain/vectorstores/milvus.py:165\u001b[0m, in \u001b[0;36mMilvus.__init__\u001b[0;34m(self, embedding_function, collection_name, connection_args, consistency_level, index_params, search_params, drop_old)\u001b[0m\n\u001b[1;32m    164\u001b[0m \u001b[39m# Initialize the vector store\u001b[39;00m\n\u001b[0;32m--> 165\u001b[0m \u001b[39mself\u001b[39;49m\u001b[39m.\u001b[39;49m_init()\n",
      "File \u001b[0;32m~/miniconda3/lib/python3.10/site-packages/langchain/vectorstores/milvus.py:229\u001b[0m, in \u001b[0;36mMilvus._init\u001b[0;34m(self, embeddings, metadatas)\u001b[0m\n\u001b[1;32m    228\u001b[0m \u001b[39mself\u001b[39m\u001b[39m.\u001b[39m_extract_fields()\n\u001b[0;32m--> 229\u001b[0m \u001b[39mself\u001b[39;49m\u001b[39m.\u001b[39;49m_create_index()\n\u001b[1;32m    230\u001b[0m \u001b[39mself\u001b[39m\u001b[39m.\u001b[39m_create_search_params()\n",
      "File \u001b[0;32m~/miniconda3/lib/python3.10/site-packages/langchain/vectorstores/milvus.py:324\u001b[0m, in \u001b[0;36mMilvus._create_index\u001b[0;34m(self)\u001b[0m\n\u001b[1;32m    322\u001b[0m \u001b[39mfrom\u001b[39;00m \u001b[39mpymilvus\u001b[39;00m \u001b[39mimport\u001b[39;00m Collection, MilvusException\n\u001b[0;32m--> 324\u001b[0m \u001b[39mif\u001b[39;00m \u001b[39misinstance\u001b[39m(\u001b[39mself\u001b[39m\u001b[39m.\u001b[39mcol, Collection) \u001b[39mand\u001b[39;00m \u001b[39mself\u001b[39;49m\u001b[39m.\u001b[39;49m_get_index() \u001b[39mis\u001b[39;00m \u001b[39mNone\u001b[39;00m:\n\u001b[1;32m    325\u001b[0m     \u001b[39mtry\u001b[39;00m:\n\u001b[1;32m    326\u001b[0m         \u001b[39m# If no index params, use a default HNSW based one\u001b[39;00m\n",
      "File \u001b[0;32m~/miniconda3/lib/python3.10/site-packages/langchain/vectorstores/milvus.py:315\u001b[0m, in \u001b[0;36mMilvus._get_index\u001b[0;34m(self)\u001b[0m\n\u001b[1;32m    314\u001b[0m \u001b[39mif\u001b[39;00m \u001b[39misinstance\u001b[39m(\u001b[39mself\u001b[39m\u001b[39m.\u001b[39mcol, Collection):\n\u001b[0;32m--> 315\u001b[0m     \u001b[39mfor\u001b[39;00m x \u001b[39min\u001b[39;00m \u001b[39mself\u001b[39;49m\u001b[39m.\u001b[39;49mcol\u001b[39m.\u001b[39;49mindexes:\n\u001b[1;32m    316\u001b[0m         \u001b[39mif\u001b[39;00m x\u001b[39m.\u001b[39mfield_name \u001b[39m==\u001b[39m \u001b[39mself\u001b[39m\u001b[39m.\u001b[39m_vector_field:\n",
      "File \u001b[0;32m~/miniconda3/lib/python3.10/site-packages/pymilvus/orm/collection.py:980\u001b[0m, in \u001b[0;36mCollection.indexes\u001b[0;34m(self, **kwargs)\u001b[0m\n\u001b[1;32m    979\u001b[0m indexes \u001b[39m=\u001b[39m []\n\u001b[0;32m--> 980\u001b[0m tmp_index \u001b[39m=\u001b[39m conn\u001b[39m.\u001b[39;49mlist_indexes(\u001b[39mself\u001b[39;49m\u001b[39m.\u001b[39;49m_name, \u001b[39m*\u001b[39;49m\u001b[39m*\u001b[39;49mkwargs)\n\u001b[1;32m    981\u001b[0m \u001b[39mfor\u001b[39;00m index \u001b[39min\u001b[39;00m tmp_index:\n",
      "File \u001b[0;32m~/miniconda3/lib/python3.10/site-packages/pymilvus/decorators.py:127\u001b[0m, in \u001b[0;36merror_handler.<locals>.wrapper.<locals>.handler\u001b[0;34m(*args, **kwargs)\u001b[0m\n\u001b[1;32m    126\u001b[0m     LOGGER\u001b[39m.\u001b[39merror(\u001b[39mf\u001b[39m\u001b[39m\"\u001b[39m\u001b[39mRPC error: [\u001b[39m\u001b[39m{\u001b[39;00minner_name\u001b[39m}\u001b[39;00m\u001b[39m], \u001b[39m\u001b[39m{\u001b[39;00me\u001b[39m}\u001b[39;00m\u001b[39m, <Time:\u001b[39m\u001b[39m{\u001b[39;00mrecord_dict\u001b[39m}\u001b[39;00m\u001b[39m>\u001b[39m\u001b[39m\"\u001b[39m)\n\u001b[0;32m--> 127\u001b[0m     \u001b[39mraise\u001b[39;00m e \u001b[39mfrom\u001b[39;00m \u001b[39me\u001b[39;00m\n\u001b[1;32m    128\u001b[0m \u001b[39mexcept\u001b[39;00m grpc\u001b[39m.\u001b[39mFutureTimeoutError \u001b[39mas\u001b[39;00m e:\n",
      "File \u001b[0;32m~/miniconda3/lib/python3.10/site-packages/pymilvus/decorators.py:123\u001b[0m, in \u001b[0;36merror_handler.<locals>.wrapper.<locals>.handler\u001b[0;34m(*args, **kwargs)\u001b[0m\n\u001b[1;32m    122\u001b[0m     record_dict[\u001b[39m\"\u001b[39m\u001b[39mRPC start\u001b[39m\u001b[39m\"\u001b[39m] \u001b[39m=\u001b[39m \u001b[39mstr\u001b[39m(datetime\u001b[39m.\u001b[39mdatetime\u001b[39m.\u001b[39mnow())\n\u001b[0;32m--> 123\u001b[0m     \u001b[39mreturn\u001b[39;00m func(\u001b[39m*\u001b[39;49margs, \u001b[39m*\u001b[39;49m\u001b[39m*\u001b[39;49mkwargs)\n\u001b[1;32m    124\u001b[0m \u001b[39mexcept\u001b[39;00m MilvusException \u001b[39mas\u001b[39;00m e:\n",
      "File \u001b[0;32m~/miniconda3/lib/python3.10/site-packages/pymilvus/decorators.py:162\u001b[0m, in \u001b[0;36mtracing_request.<locals>.wrapper.<locals>.handler\u001b[0;34m(self, *args, **kwargs)\u001b[0m\n\u001b[1;32m    161\u001b[0m     \u001b[39mself\u001b[39m\u001b[39m.\u001b[39mset_onetime_request_id(req_id)\n\u001b[0;32m--> 162\u001b[0m \u001b[39mreturn\u001b[39;00m func(\u001b[39mself\u001b[39;49m, \u001b[39m*\u001b[39;49margs, \u001b[39m*\u001b[39;49m\u001b[39m*\u001b[39;49mkwargs)\n",
      "File \u001b[0;32m~/miniconda3/lib/python3.10/site-packages/pymilvus/decorators.py:102\u001b[0m, in \u001b[0;36mretry_on_rpc_failure.<locals>.wrapper.<locals>.handler\u001b[0;34m(*args, **kwargs)\u001b[0m\n\u001b[1;32m    101\u001b[0m     \u001b[39melse\u001b[39;00m:\n\u001b[0;32m--> 102\u001b[0m         \u001b[39mraise\u001b[39;00m e \u001b[39mfrom\u001b[39;00m \u001b[39me\u001b[39;00m\n\u001b[1;32m    103\u001b[0m \u001b[39mexcept\u001b[39;00m \u001b[39mException\u001b[39;00m \u001b[39mas\u001b[39;00m e:\n",
      "File \u001b[0;32m~/miniconda3/lib/python3.10/site-packages/pymilvus/decorators.py:68\u001b[0m, in \u001b[0;36mretry_on_rpc_failure.<locals>.wrapper.<locals>.handler\u001b[0;34m(*args, **kwargs)\u001b[0m\n\u001b[1;32m     67\u001b[0m \u001b[39mtry\u001b[39;00m:\n\u001b[0;32m---> 68\u001b[0m     \u001b[39mreturn\u001b[39;00m func(\u001b[39m*\u001b[39;49margs, \u001b[39m*\u001b[39;49m\u001b[39m*\u001b[39;49mkwargs)\n\u001b[1;32m     69\u001b[0m \u001b[39mexcept\u001b[39;00m grpc\u001b[39m.\u001b[39mRpcError \u001b[39mas\u001b[39;00m e:\n\u001b[1;32m     70\u001b[0m     \u001b[39m# Reference: https://grpc.github.io/grpc/python/grpc.html#grpc-status-code\u001b[39;00m\n",
      "File \u001b[0;32m~/miniconda3/lib/python3.10/site-packages/pymilvus/client/grpc_handler.py:796\u001b[0m, in \u001b[0;36mGrpcHandler.list_indexes\u001b[0;34m(self, collection_name, timeout, **kwargs)\u001b[0m\n\u001b[1;32m    795\u001b[0m     \u001b[39mreturn\u001b[39;00m []\n\u001b[0;32m--> 796\u001b[0m \u001b[39mraise\u001b[39;00m MilvusException(status\u001b[39m.\u001b[39merror_code, status\u001b[39m.\u001b[39mreason)\n",
      "\u001b[0;31mMilvusException\u001b[0m: <MilvusException: (code=1, message=err: find no available indexcoord, check indexcoord state\n, /__w/milvus-lite/milvus-lite/milvus_binary/milvus/internal/util/trace/stack_trace.go:51 github.com/milvus-io/milvus/internal/util/trace.StackTrace\n/__w/milvus-lite/milvus-lite/milvus_binary/milvus/internal/util/grpcclient/client.go:352 github.com/milvus-io/milvus/internal/util/grpcclient.(*ClientBase[...]).ReCall\n/__w/milvus-lite/milvus-lite/milvus_binary/milvus/internal/distributed/indexcoord/client/client.go:208 github.com/milvus-io/milvus/internal/distributed/indexcoord/client.(*Client).DescribeIndex\n/__w/milvus-lite/milvus-lite/milvus_binary/milvus/internal/proxy/task_index.go:494 github.com/milvus-io/milvus/internal/proxy.(*describeIndexTask).Execute\n/__w/milvus-lite/milvus-lite/milvus_binary/milvus/internal/proxy/task_scheduler.go:470 github.com/milvus-io/milvus/internal/proxy.(*taskScheduler).processTask\n/__w/milvus-lite/milvus-lite/milvus_binary/milvus/internal/proxy/task_scheduler.go:499 github.com/milvus-io/milvus/internal/proxy.(*taskScheduler).definitionLoop\n/usr/local/go/src/runtime/asm_amd64.s:1571 runtime.goexit\n)>",
      "\nThe above exception was the direct cause of the following exception:\n",
      "\u001b[0;31mMilvusException\u001b[0m                           Traceback (most recent call last)",
      "    \u001b[0;31m[... skipping hidden 1 frame]\u001b[0m\n",
      "Cell \u001b[0;32mIn[6], line 24\u001b[0m\n\u001b[1;32m     22\u001b[0m connection_args \u001b[39m=\u001b[39m {\u001b[39m\"\u001b[39m\u001b[39mhost\u001b[39m\u001b[39m\"\u001b[39m: \u001b[39m\"\u001b[39m\u001b[39m0.0.0.0\u001b[39m\u001b[39m\"\u001b[39m, \u001b[39m\"\u001b[39m\u001b[39mport\u001b[39m\u001b[39m\"\u001b[39m: \u001b[39m\"\u001b[39m\u001b[39m19530\u001b[39m\u001b[39m\"\u001b[39m}\n\u001b[0;32m---> 24\u001b[0m vector_db \u001b[39m=\u001b[39m Milvus\u001b[39m.\u001b[39;49mfrom_documents(\n\u001b[1;32m     25\u001b[0m     [docs[\u001b[39m0\u001b[39;49m]],\n\u001b[1;32m     26\u001b[0m     xinference_embeddings,\n\u001b[1;32m     27\u001b[0m     connection_args\u001b[39m=\u001b[39;49mconnection_args,\n\u001b[1;32m     28\u001b[0m )\n\u001b[1;32m     30\u001b[0m num_threads \u001b[39m=\u001b[39m \u001b[39m5\u001b[39m  \n",
      "File \u001b[0;32m~/miniconda3/lib/python3.10/site-packages/langchain/vectorstores/base.py:420\u001b[0m, in \u001b[0;36mVectorStore.from_documents\u001b[0;34m(cls, documents, embedding, **kwargs)\u001b[0m\n\u001b[1;32m    419\u001b[0m metadatas \u001b[39m=\u001b[39m [d\u001b[39m.\u001b[39mmetadata \u001b[39mfor\u001b[39;00m d \u001b[39min\u001b[39;00m documents]\n\u001b[0;32m--> 420\u001b[0m \u001b[39mreturn\u001b[39;00m \u001b[39mcls\u001b[39;49m\u001b[39m.\u001b[39;49mfrom_texts(texts, embedding, metadatas\u001b[39m=\u001b[39;49mmetadatas, \u001b[39m*\u001b[39;49m\u001b[39m*\u001b[39;49mkwargs)\n",
      "File \u001b[0;32m~/miniconda3/lib/python3.10/site-packages/langchain/vectorstores/milvus.py:812\u001b[0m, in \u001b[0;36mMilvus.from_texts\u001b[0;34m(cls, texts, embedding, metadatas, collection_name, connection_args, consistency_level, index_params, search_params, drop_old, **kwargs)\u001b[0m\n\u001b[1;32m    789\u001b[0m \u001b[39m\u001b[39m\u001b[39m\"\"\"Create a Milvus collection, indexes it with HNSW, and insert data.\u001b[39;00m\n\u001b[1;32m    790\u001b[0m \n\u001b[1;32m    791\u001b[0m \u001b[39mArgs:\u001b[39;00m\n\u001b[0;32m   (...)\u001b[0m\n\u001b[1;32m    810\u001b[0m \u001b[39m    Milvus: Milvus Vector Store\u001b[39;00m\n\u001b[1;32m    811\u001b[0m \u001b[39m\"\"\"\u001b[39;00m\n\u001b[0;32m--> 812\u001b[0m vector_db \u001b[39m=\u001b[39m \u001b[39mcls\u001b[39;49m(\n\u001b[1;32m    813\u001b[0m     embedding_function\u001b[39m=\u001b[39;49membedding,\n\u001b[1;32m    814\u001b[0m     collection_name\u001b[39m=\u001b[39;49mcollection_name,\n\u001b[1;32m    815\u001b[0m     connection_args\u001b[39m=\u001b[39;49mconnection_args,\n\u001b[1;32m    816\u001b[0m     consistency_level\u001b[39m=\u001b[39;49mconsistency_level,\n\u001b[1;32m    817\u001b[0m     index_params\u001b[39m=\u001b[39;49mindex_params,\n\u001b[1;32m    818\u001b[0m     search_params\u001b[39m=\u001b[39;49msearch_params,\n\u001b[1;32m    819\u001b[0m     drop_old\u001b[39m=\u001b[39;49mdrop_old,\n\u001b[1;32m    820\u001b[0m     \u001b[39m*\u001b[39;49m\u001b[39m*\u001b[39;49mkwargs,\n\u001b[1;32m    821\u001b[0m )\n\u001b[1;32m    822\u001b[0m vector_db\u001b[39m.\u001b[39madd_texts(texts\u001b[39m=\u001b[39mtexts, metadatas\u001b[39m=\u001b[39mmetadatas)\n",
      "File \u001b[0;32m~/miniconda3/lib/python3.10/site-packages/langchain/vectorstores/milvus.py:165\u001b[0m, in \u001b[0;36mMilvus.__init__\u001b[0;34m(self, embedding_function, collection_name, connection_args, consistency_level, index_params, search_params, drop_old)\u001b[0m\n\u001b[1;32m    164\u001b[0m \u001b[39m# Initialize the vector store\u001b[39;00m\n\u001b[0;32m--> 165\u001b[0m \u001b[39mself\u001b[39;49m\u001b[39m.\u001b[39;49m_init()\n",
      "File \u001b[0;32m~/miniconda3/lib/python3.10/site-packages/langchain/vectorstores/milvus.py:229\u001b[0m, in \u001b[0;36mMilvus._init\u001b[0;34m(self, embeddings, metadatas)\u001b[0m\n\u001b[1;32m    228\u001b[0m \u001b[39mself\u001b[39m\u001b[39m.\u001b[39m_extract_fields()\n\u001b[0;32m--> 229\u001b[0m \u001b[39mself\u001b[39;49m\u001b[39m.\u001b[39;49m_create_index()\n\u001b[1;32m    230\u001b[0m \u001b[39mself\u001b[39m\u001b[39m.\u001b[39m_create_search_params()\n",
      "File \u001b[0;32m~/miniconda3/lib/python3.10/site-packages/langchain/vectorstores/milvus.py:324\u001b[0m, in \u001b[0;36mMilvus._create_index\u001b[0;34m(self)\u001b[0m\n\u001b[1;32m    322\u001b[0m \u001b[39mfrom\u001b[39;00m \u001b[39mpymilvus\u001b[39;00m \u001b[39mimport\u001b[39;00m Collection, MilvusException\n\u001b[0;32m--> 324\u001b[0m \u001b[39mif\u001b[39;00m \u001b[39misinstance\u001b[39m(\u001b[39mself\u001b[39m\u001b[39m.\u001b[39mcol, Collection) \u001b[39mand\u001b[39;00m \u001b[39mself\u001b[39;49m\u001b[39m.\u001b[39;49m_get_index() \u001b[39mis\u001b[39;00m \u001b[39mNone\u001b[39;00m:\n\u001b[1;32m    325\u001b[0m     \u001b[39mtry\u001b[39;00m:\n\u001b[1;32m    326\u001b[0m         \u001b[39m# If no index params, use a default HNSW based one\u001b[39;00m\n",
      "File \u001b[0;32m~/miniconda3/lib/python3.10/site-packages/langchain/vectorstores/milvus.py:315\u001b[0m, in \u001b[0;36mMilvus._get_index\u001b[0;34m(self)\u001b[0m\n\u001b[1;32m    314\u001b[0m \u001b[39mif\u001b[39;00m \u001b[39misinstance\u001b[39m(\u001b[39mself\u001b[39m\u001b[39m.\u001b[39mcol, Collection):\n\u001b[0;32m--> 315\u001b[0m     \u001b[39mfor\u001b[39;00m x \u001b[39min\u001b[39;00m \u001b[39mself\u001b[39;49m\u001b[39m.\u001b[39;49mcol\u001b[39m.\u001b[39;49mindexes:\n\u001b[1;32m    316\u001b[0m         \u001b[39mif\u001b[39;00m x\u001b[39m.\u001b[39mfield_name \u001b[39m==\u001b[39m \u001b[39mself\u001b[39m\u001b[39m.\u001b[39m_vector_field:\n",
      "File \u001b[0;32m~/miniconda3/lib/python3.10/site-packages/pymilvus/orm/collection.py:980\u001b[0m, in \u001b[0;36mCollection.indexes\u001b[0;34m(self, **kwargs)\u001b[0m\n\u001b[1;32m    979\u001b[0m indexes \u001b[39m=\u001b[39m []\n\u001b[0;32m--> 980\u001b[0m tmp_index \u001b[39m=\u001b[39m conn\u001b[39m.\u001b[39;49mlist_indexes(\u001b[39mself\u001b[39;49m\u001b[39m.\u001b[39;49m_name, \u001b[39m*\u001b[39;49m\u001b[39m*\u001b[39;49mkwargs)\n\u001b[1;32m    981\u001b[0m \u001b[39mfor\u001b[39;00m index \u001b[39min\u001b[39;00m tmp_index:\n",
      "File \u001b[0;32m~/miniconda3/lib/python3.10/site-packages/pymilvus/decorators.py:127\u001b[0m, in \u001b[0;36merror_handler.<locals>.wrapper.<locals>.handler\u001b[0;34m(*args, **kwargs)\u001b[0m\n\u001b[1;32m    126\u001b[0m     LOGGER\u001b[39m.\u001b[39merror(\u001b[39mf\u001b[39m\u001b[39m\"\u001b[39m\u001b[39mRPC error: [\u001b[39m\u001b[39m{\u001b[39;00minner_name\u001b[39m}\u001b[39;00m\u001b[39m], \u001b[39m\u001b[39m{\u001b[39;00me\u001b[39m}\u001b[39;00m\u001b[39m, <Time:\u001b[39m\u001b[39m{\u001b[39;00mrecord_dict\u001b[39m}\u001b[39;00m\u001b[39m>\u001b[39m\u001b[39m\"\u001b[39m)\n\u001b[0;32m--> 127\u001b[0m     \u001b[39mraise\u001b[39;00m e \u001b[39mfrom\u001b[39;00m \u001b[39me\u001b[39;00m\n\u001b[1;32m    128\u001b[0m \u001b[39mexcept\u001b[39;00m grpc\u001b[39m.\u001b[39mFutureTimeoutError \u001b[39mas\u001b[39;00m e:\n",
      "File \u001b[0;32m~/miniconda3/lib/python3.10/site-packages/pymilvus/decorators.py:123\u001b[0m, in \u001b[0;36merror_handler.<locals>.wrapper.<locals>.handler\u001b[0;34m(*args, **kwargs)\u001b[0m\n\u001b[1;32m    122\u001b[0m     record_dict[\u001b[39m\"\u001b[39m\u001b[39mRPC start\u001b[39m\u001b[39m\"\u001b[39m] \u001b[39m=\u001b[39m \u001b[39mstr\u001b[39m(datetime\u001b[39m.\u001b[39mdatetime\u001b[39m.\u001b[39mnow())\n\u001b[0;32m--> 123\u001b[0m     \u001b[39mreturn\u001b[39;00m func(\u001b[39m*\u001b[39;49margs, \u001b[39m*\u001b[39;49m\u001b[39m*\u001b[39;49mkwargs)\n\u001b[1;32m    124\u001b[0m \u001b[39mexcept\u001b[39;00m MilvusException \u001b[39mas\u001b[39;00m e:\n",
      "File \u001b[0;32m~/miniconda3/lib/python3.10/site-packages/pymilvus/decorators.py:162\u001b[0m, in \u001b[0;36mtracing_request.<locals>.wrapper.<locals>.handler\u001b[0;34m(self, *args, **kwargs)\u001b[0m\n\u001b[1;32m    161\u001b[0m     \u001b[39mself\u001b[39m\u001b[39m.\u001b[39mset_onetime_request_id(req_id)\n\u001b[0;32m--> 162\u001b[0m \u001b[39mreturn\u001b[39;00m func(\u001b[39mself\u001b[39;49m, \u001b[39m*\u001b[39;49margs, \u001b[39m*\u001b[39;49m\u001b[39m*\u001b[39;49mkwargs)\n",
      "File \u001b[0;32m~/miniconda3/lib/python3.10/site-packages/pymilvus/decorators.py:102\u001b[0m, in \u001b[0;36mretry_on_rpc_failure.<locals>.wrapper.<locals>.handler\u001b[0;34m(*args, **kwargs)\u001b[0m\n\u001b[1;32m    101\u001b[0m     \u001b[39melse\u001b[39;00m:\n\u001b[0;32m--> 102\u001b[0m         \u001b[39mraise\u001b[39;00m e \u001b[39mfrom\u001b[39;00m \u001b[39me\u001b[39;00m\n\u001b[1;32m    103\u001b[0m \u001b[39mexcept\u001b[39;00m \u001b[39mException\u001b[39;00m \u001b[39mas\u001b[39;00m e:\n",
      "File \u001b[0;32m~/miniconda3/lib/python3.10/site-packages/pymilvus/decorators.py:68\u001b[0m, in \u001b[0;36mretry_on_rpc_failure.<locals>.wrapper.<locals>.handler\u001b[0;34m(*args, **kwargs)\u001b[0m\n\u001b[1;32m     67\u001b[0m \u001b[39mtry\u001b[39;00m:\n\u001b[0;32m---> 68\u001b[0m     \u001b[39mreturn\u001b[39;00m func(\u001b[39m*\u001b[39;49margs, \u001b[39m*\u001b[39;49m\u001b[39m*\u001b[39;49mkwargs)\n\u001b[1;32m     69\u001b[0m \u001b[39mexcept\u001b[39;00m grpc\u001b[39m.\u001b[39mRpcError \u001b[39mas\u001b[39;00m e:\n\u001b[1;32m     70\u001b[0m     \u001b[39m# Reference: https://grpc.github.io/grpc/python/grpc.html#grpc-status-code\u001b[39;00m\n",
      "File \u001b[0;32m~/miniconda3/lib/python3.10/site-packages/pymilvus/client/grpc_handler.py:796\u001b[0m, in \u001b[0;36mGrpcHandler.list_indexes\u001b[0;34m(self, collection_name, timeout, **kwargs)\u001b[0m\n\u001b[1;32m    795\u001b[0m     \u001b[39mreturn\u001b[39;00m []\n\u001b[0;32m--> 796\u001b[0m \u001b[39mraise\u001b[39;00m MilvusException(status\u001b[39m.\u001b[39merror_code, status\u001b[39m.\u001b[39mreason)\n",
      "\u001b[0;31mMilvusException\u001b[0m: <MilvusException: (code=1, message=err: find no available indexcoord, check indexcoord state\n, /__w/milvus-lite/milvus-lite/milvus_binary/milvus/internal/util/trace/stack_trace.go:51 github.com/milvus-io/milvus/internal/util/trace.StackTrace\n/__w/milvus-lite/milvus-lite/milvus_binary/milvus/internal/util/grpcclient/client.go:352 github.com/milvus-io/milvus/internal/util/grpcclient.(*ClientBase[...]).ReCall\n/__w/milvus-lite/milvus-lite/milvus_binary/milvus/internal/distributed/indexcoord/client/client.go:208 github.com/milvus-io/milvus/internal/distributed/indexcoord/client.(*Client).DescribeIndex\n/__w/milvus-lite/milvus-lite/milvus_binary/milvus/internal/proxy/task_index.go:494 github.com/milvus-io/milvus/internal/proxy.(*describeIndexTask).Execute\n/__w/milvus-lite/milvus-lite/milvus_binary/milvus/internal/proxy/task_scheduler.go:470 github.com/milvus-io/milvus/internal/proxy.(*taskScheduler).processTask\n/__w/milvus-lite/milvus-lite/milvus_binary/milvus/internal/proxy/task_scheduler.go:499 github.com/milvus-io/milvus/internal/proxy.(*taskScheduler).definitionLoop\n/usr/local/go/src/runtime/asm_amd64.s:1571 runtime.goexit\n)>",
      "\nThe above exception was the direct cause of the following exception:\n",
      "\u001b[0;31mMilvusException\u001b[0m                           Traceback (most recent call last)",
      "Cell \u001b[0;32mIn[6], line 24\u001b[0m\n\u001b[1;32m     17\u001b[0m xinference_embeddings \u001b[39m=\u001b[39m XinferenceEmbeddings(\n\u001b[1;32m     18\u001b[0m     server_url\u001b[39m=\u001b[39m\u001b[39m\"\u001b[39m\u001b[39mhttp://127.0.0.1:12831\u001b[39m\u001b[39m\"\u001b[39m, \n\u001b[1;32m     19\u001b[0m     model_uid\u001b[39m=\u001b[39m\u001b[39m\"\u001b[39m\u001b[39m0494223c-381d-11ee-86a4-fa163e74fa2d\u001b[39m\u001b[39m\"\u001b[39m\n\u001b[1;32m     20\u001b[0m )\n\u001b[1;32m     22\u001b[0m connection_args \u001b[39m=\u001b[39m {\u001b[39m\"\u001b[39m\u001b[39mhost\u001b[39m\u001b[39m\"\u001b[39m: \u001b[39m\"\u001b[39m\u001b[39m0.0.0.0\u001b[39m\u001b[39m\"\u001b[39m, \u001b[39m\"\u001b[39m\u001b[39mport\u001b[39m\u001b[39m\"\u001b[39m: \u001b[39m\"\u001b[39m\u001b[39m19530\u001b[39m\u001b[39m\"\u001b[39m}\n\u001b[0;32m---> 24\u001b[0m vector_db \u001b[39m=\u001b[39m Milvus\u001b[39m.\u001b[39;49mfrom_documents(\n\u001b[1;32m     25\u001b[0m     [docs[\u001b[39m0\u001b[39;49m]],\n\u001b[1;32m     26\u001b[0m     xinference_embeddings,\n\u001b[1;32m     27\u001b[0m     connection_args\u001b[39m=\u001b[39;49mconnection_args,\n\u001b[1;32m     28\u001b[0m )\n\u001b[1;32m     30\u001b[0m num_threads \u001b[39m=\u001b[39m \u001b[39m5\u001b[39m  \n\u001b[1;32m     31\u001b[0m chunk_size \u001b[39m=\u001b[39m \u001b[39mlen\u001b[39m(docs) \u001b[39m/\u001b[39m\u001b[39m/\u001b[39m num_threads\n",
      "File \u001b[0;32m~/miniconda3/lib/python3.10/site-packages/langchain/vectorstores/base.py:420\u001b[0m, in \u001b[0;36mVectorStore.from_documents\u001b[0;34m(cls, documents, embedding, **kwargs)\u001b[0m\n\u001b[1;32m    418\u001b[0m texts \u001b[39m=\u001b[39m [d\u001b[39m.\u001b[39mpage_content \u001b[39mfor\u001b[39;00m d \u001b[39min\u001b[39;00m documents]\n\u001b[1;32m    419\u001b[0m metadatas \u001b[39m=\u001b[39m [d\u001b[39m.\u001b[39mmetadata \u001b[39mfor\u001b[39;00m d \u001b[39min\u001b[39;00m documents]\n\u001b[0;32m--> 420\u001b[0m \u001b[39mreturn\u001b[39;00m \u001b[39mcls\u001b[39;49m\u001b[39m.\u001b[39;49mfrom_texts(texts, embedding, metadatas\u001b[39m=\u001b[39;49mmetadatas, \u001b[39m*\u001b[39;49m\u001b[39m*\u001b[39;49mkwargs)\n",
      "File \u001b[0;32m~/miniconda3/lib/python3.10/site-packages/langchain/vectorstores/milvus.py:812\u001b[0m, in \u001b[0;36mMilvus.from_texts\u001b[0;34m(cls, texts, embedding, metadatas, collection_name, connection_args, consistency_level, index_params, search_params, drop_old, **kwargs)\u001b[0m\n\u001b[1;32m    775\u001b[0m \u001b[39m@classmethod\u001b[39m\n\u001b[1;32m    776\u001b[0m \u001b[39mdef\u001b[39;00m \u001b[39mfrom_texts\u001b[39m(\n\u001b[1;32m    777\u001b[0m     \u001b[39mcls\u001b[39m,\n\u001b[0;32m   (...)\u001b[0m\n\u001b[1;32m    787\u001b[0m     \u001b[39m*\u001b[39m\u001b[39m*\u001b[39mkwargs: Any,\n\u001b[1;32m    788\u001b[0m ) \u001b[39m-\u001b[39m\u001b[39m>\u001b[39m Milvus:\n\u001b[1;32m    789\u001b[0m \u001b[39m    \u001b[39m\u001b[39m\"\"\"Create a Milvus collection, indexes it with HNSW, and insert data.\u001b[39;00m\n\u001b[1;32m    790\u001b[0m \n\u001b[1;32m    791\u001b[0m \u001b[39m    Args:\u001b[39;00m\n\u001b[0;32m   (...)\u001b[0m\n\u001b[1;32m    810\u001b[0m \u001b[39m        Milvus: Milvus Vector Store\u001b[39;00m\n\u001b[1;32m    811\u001b[0m \u001b[39m    \"\"\"\u001b[39;00m\n\u001b[0;32m--> 812\u001b[0m     vector_db \u001b[39m=\u001b[39m \u001b[39mcls\u001b[39;49m(\n\u001b[1;32m    813\u001b[0m         embedding_function\u001b[39m=\u001b[39;49membedding,\n\u001b[1;32m    814\u001b[0m         collection_name\u001b[39m=\u001b[39;49mcollection_name,\n\u001b[1;32m    815\u001b[0m         connection_args\u001b[39m=\u001b[39;49mconnection_args,\n\u001b[1;32m    816\u001b[0m         consistency_level\u001b[39m=\u001b[39;49mconsistency_level,\n\u001b[1;32m    817\u001b[0m         index_params\u001b[39m=\u001b[39;49mindex_params,\n\u001b[1;32m    818\u001b[0m         search_params\u001b[39m=\u001b[39;49msearch_params,\n\u001b[1;32m    819\u001b[0m         drop_old\u001b[39m=\u001b[39;49mdrop_old,\n\u001b[1;32m    820\u001b[0m         \u001b[39m*\u001b[39;49m\u001b[39m*\u001b[39;49mkwargs,\n\u001b[1;32m    821\u001b[0m     )\n\u001b[1;32m    822\u001b[0m     vector_db\u001b[39m.\u001b[39madd_texts(texts\u001b[39m=\u001b[39mtexts, metadatas\u001b[39m=\u001b[39mmetadatas)\n\u001b[1;32m    823\u001b[0m     \u001b[39mreturn\u001b[39;00m vector_db\n",
      "File \u001b[0;32m~/miniconda3/lib/python3.10/site-packages/langchain/vectorstores/milvus.py:165\u001b[0m, in \u001b[0;36mMilvus.__init__\u001b[0;34m(self, embedding_function, collection_name, connection_args, consistency_level, index_params, search_params, drop_old)\u001b[0m\n\u001b[1;32m    162\u001b[0m     \u001b[39mself\u001b[39m\u001b[39m.\u001b[39mcol \u001b[39m=\u001b[39m \u001b[39mNone\u001b[39;00m\n\u001b[1;32m    164\u001b[0m \u001b[39m# Initialize the vector store\u001b[39;00m\n\u001b[0;32m--> 165\u001b[0m \u001b[39mself\u001b[39;49m\u001b[39m.\u001b[39;49m_init()\n",
      "File \u001b[0;32m~/miniconda3/lib/python3.10/site-packages/langchain/vectorstores/milvus.py:229\u001b[0m, in \u001b[0;36mMilvus._init\u001b[0;34m(self, embeddings, metadatas)\u001b[0m\n\u001b[1;32m    227\u001b[0m     \u001b[39mself\u001b[39m\u001b[39m.\u001b[39m_create_collection(embeddings, metadatas)\n\u001b[1;32m    228\u001b[0m \u001b[39mself\u001b[39m\u001b[39m.\u001b[39m_extract_fields()\n\u001b[0;32m--> 229\u001b[0m \u001b[39mself\u001b[39;49m\u001b[39m.\u001b[39;49m_create_index()\n\u001b[1;32m    230\u001b[0m \u001b[39mself\u001b[39m\u001b[39m.\u001b[39m_create_search_params()\n\u001b[1;32m    231\u001b[0m \u001b[39mself\u001b[39m\u001b[39m.\u001b[39m_load()\n",
      "File \u001b[0;32m~/miniconda3/lib/python3.10/site-packages/langchain/vectorstores/milvus.py:324\u001b[0m, in \u001b[0;36mMilvus._create_index\u001b[0;34m(self)\u001b[0m\n\u001b[1;32m    321\u001b[0m \u001b[39m\u001b[39m\u001b[39m\"\"\"Create a index on the collection\"\"\"\u001b[39;00m\n\u001b[1;32m    322\u001b[0m \u001b[39mfrom\u001b[39;00m \u001b[39mpymilvus\u001b[39;00m \u001b[39mimport\u001b[39;00m Collection, MilvusException\n\u001b[0;32m--> 324\u001b[0m \u001b[39mif\u001b[39;00m \u001b[39misinstance\u001b[39m(\u001b[39mself\u001b[39m\u001b[39m.\u001b[39mcol, Collection) \u001b[39mand\u001b[39;00m \u001b[39mself\u001b[39;49m\u001b[39m.\u001b[39;49m_get_index() \u001b[39mis\u001b[39;00m \u001b[39mNone\u001b[39;00m:\n\u001b[1;32m    325\u001b[0m     \u001b[39mtry\u001b[39;00m:\n\u001b[1;32m    326\u001b[0m         \u001b[39m# If no index params, use a default HNSW based one\u001b[39;00m\n\u001b[1;32m    327\u001b[0m         \u001b[39mif\u001b[39;00m \u001b[39mself\u001b[39m\u001b[39m.\u001b[39mindex_params \u001b[39mis\u001b[39;00m \u001b[39mNone\u001b[39;00m:\n",
      "File \u001b[0;32m~/miniconda3/lib/python3.10/site-packages/langchain/vectorstores/milvus.py:315\u001b[0m, in \u001b[0;36mMilvus._get_index\u001b[0;34m(self)\u001b[0m\n\u001b[1;32m    312\u001b[0m \u001b[39mfrom\u001b[39;00m \u001b[39mpymilvus\u001b[39;00m \u001b[39mimport\u001b[39;00m Collection\n\u001b[1;32m    314\u001b[0m \u001b[39mif\u001b[39;00m \u001b[39misinstance\u001b[39m(\u001b[39mself\u001b[39m\u001b[39m.\u001b[39mcol, Collection):\n\u001b[0;32m--> 315\u001b[0m     \u001b[39mfor\u001b[39;00m x \u001b[39min\u001b[39;00m \u001b[39mself\u001b[39;49m\u001b[39m.\u001b[39;49mcol\u001b[39m.\u001b[39;49mindexes:\n\u001b[1;32m    316\u001b[0m         \u001b[39mif\u001b[39;00m x\u001b[39m.\u001b[39mfield_name \u001b[39m==\u001b[39m \u001b[39mself\u001b[39m\u001b[39m.\u001b[39m_vector_field:\n\u001b[1;32m    317\u001b[0m             \u001b[39mreturn\u001b[39;00m x\u001b[39m.\u001b[39mto_dict()\n",
      "File \u001b[0;32m~/miniconda3/lib/python3.10/site-packages/pymilvus/orm/collection.py:980\u001b[0m, in \u001b[0;36mCollection.indexes\u001b[0;34m(self, **kwargs)\u001b[0m\n\u001b[1;32m    978\u001b[0m conn \u001b[39m=\u001b[39m \u001b[39mself\u001b[39m\u001b[39m.\u001b[39m_get_connection()\n\u001b[1;32m    979\u001b[0m indexes \u001b[39m=\u001b[39m []\n\u001b[0;32m--> 980\u001b[0m tmp_index \u001b[39m=\u001b[39m conn\u001b[39m.\u001b[39;49mlist_indexes(\u001b[39mself\u001b[39;49m\u001b[39m.\u001b[39;49m_name, \u001b[39m*\u001b[39;49m\u001b[39m*\u001b[39;49mkwargs)\n\u001b[1;32m    981\u001b[0m \u001b[39mfor\u001b[39;00m index \u001b[39min\u001b[39;00m tmp_index:\n\u001b[1;32m    982\u001b[0m     \u001b[39mif\u001b[39;00m index \u001b[39mis\u001b[39;00m \u001b[39mnot\u001b[39;00m \u001b[39mNone\u001b[39;00m:\n",
      "File \u001b[0;32m~/miniconda3/lib/python3.10/site-packages/pymilvus/decorators.py:127\u001b[0m, in \u001b[0;36merror_handler.<locals>.wrapper.<locals>.handler\u001b[0;34m(*args, **kwargs)\u001b[0m\n\u001b[1;32m    125\u001b[0m     record_dict[\u001b[39m\"\u001b[39m\u001b[39mRPC error\u001b[39m\u001b[39m\"\u001b[39m] \u001b[39m=\u001b[39m \u001b[39mstr\u001b[39m(datetime\u001b[39m.\u001b[39mdatetime\u001b[39m.\u001b[39mnow())\n\u001b[1;32m    126\u001b[0m     LOGGER\u001b[39m.\u001b[39merror(\u001b[39mf\u001b[39m\u001b[39m\"\u001b[39m\u001b[39mRPC error: [\u001b[39m\u001b[39m{\u001b[39;00minner_name\u001b[39m}\u001b[39;00m\u001b[39m], \u001b[39m\u001b[39m{\u001b[39;00me\u001b[39m}\u001b[39;00m\u001b[39m, <Time:\u001b[39m\u001b[39m{\u001b[39;00mrecord_dict\u001b[39m}\u001b[39;00m\u001b[39m>\u001b[39m\u001b[39m\"\u001b[39m)\n\u001b[0;32m--> 127\u001b[0m     \u001b[39mraise\u001b[39;00m e \u001b[39mfrom\u001b[39;00m \u001b[39me\u001b[39;00m\n\u001b[1;32m    128\u001b[0m \u001b[39mexcept\u001b[39;00m grpc\u001b[39m.\u001b[39mFutureTimeoutError \u001b[39mas\u001b[39;00m e:\n\u001b[1;32m    129\u001b[0m     record_dict[\u001b[39m\"\u001b[39m\u001b[39mgRPC timeout\u001b[39m\u001b[39m\"\u001b[39m] \u001b[39m=\u001b[39m \u001b[39mstr\u001b[39m(datetime\u001b[39m.\u001b[39mdatetime\u001b[39m.\u001b[39mnow())\n",
      "File \u001b[0;32m~/miniconda3/lib/python3.10/site-packages/pymilvus/decorators.py:123\u001b[0m, in \u001b[0;36merror_handler.<locals>.wrapper.<locals>.handler\u001b[0;34m(*args, **kwargs)\u001b[0m\n\u001b[1;32m    121\u001b[0m \u001b[39mtry\u001b[39;00m:\n\u001b[1;32m    122\u001b[0m     record_dict[\u001b[39m\"\u001b[39m\u001b[39mRPC start\u001b[39m\u001b[39m\"\u001b[39m] \u001b[39m=\u001b[39m \u001b[39mstr\u001b[39m(datetime\u001b[39m.\u001b[39mdatetime\u001b[39m.\u001b[39mnow())\n\u001b[0;32m--> 123\u001b[0m     \u001b[39mreturn\u001b[39;00m func(\u001b[39m*\u001b[39;49margs, \u001b[39m*\u001b[39;49m\u001b[39m*\u001b[39;49mkwargs)\n\u001b[1;32m    124\u001b[0m \u001b[39mexcept\u001b[39;00m MilvusException \u001b[39mas\u001b[39;00m e:\n\u001b[1;32m    125\u001b[0m     record_dict[\u001b[39m\"\u001b[39m\u001b[39mRPC error\u001b[39m\u001b[39m\"\u001b[39m] \u001b[39m=\u001b[39m \u001b[39mstr\u001b[39m(datetime\u001b[39m.\u001b[39mdatetime\u001b[39m.\u001b[39mnow())\n",
      "File \u001b[0;32m~/miniconda3/lib/python3.10/site-packages/pymilvus/decorators.py:162\u001b[0m, in \u001b[0;36mtracing_request.<locals>.wrapper.<locals>.handler\u001b[0;34m(self, *args, **kwargs)\u001b[0m\n\u001b[1;32m    160\u001b[0m \u001b[39mif\u001b[39;00m req_id:\n\u001b[1;32m    161\u001b[0m     \u001b[39mself\u001b[39m\u001b[39m.\u001b[39mset_onetime_request_id(req_id)\n\u001b[0;32m--> 162\u001b[0m \u001b[39mreturn\u001b[39;00m func(\u001b[39mself\u001b[39;49m, \u001b[39m*\u001b[39;49margs, \u001b[39m*\u001b[39;49m\u001b[39m*\u001b[39;49mkwargs)\n",
      "File \u001b[0;32m~/miniconda3/lib/python3.10/site-packages/pymilvus/decorators.py:102\u001b[0m, in \u001b[0;36mretry_on_rpc_failure.<locals>.wrapper.<locals>.handler\u001b[0;34m(*args, **kwargs)\u001b[0m\n\u001b[1;32m    100\u001b[0m         back_off \u001b[39m=\u001b[39m \u001b[39mmin\u001b[39m(back_off \u001b[39m*\u001b[39m back_off_multiplier, max_back_off)\n\u001b[1;32m    101\u001b[0m     \u001b[39melse\u001b[39;00m:\n\u001b[0;32m--> 102\u001b[0m         \u001b[39mraise\u001b[39;00m e \u001b[39mfrom\u001b[39;00m \u001b[39me\u001b[39;00m\n\u001b[1;32m    103\u001b[0m \u001b[39mexcept\u001b[39;00m \u001b[39mException\u001b[39;00m \u001b[39mas\u001b[39;00m e:\n\u001b[1;32m    104\u001b[0m     \u001b[39mraise\u001b[39;00m e \u001b[39mfrom\u001b[39;00m \u001b[39me\u001b[39;00m\n",
      "File \u001b[0;32m~/miniconda3/lib/python3.10/site-packages/pymilvus/decorators.py:68\u001b[0m, in \u001b[0;36mretry_on_rpc_failure.<locals>.wrapper.<locals>.handler\u001b[0;34m(*args, **kwargs)\u001b[0m\n\u001b[1;32m     66\u001b[0m \u001b[39mwhile\u001b[39;00m \u001b[39mTrue\u001b[39;00m:\n\u001b[1;32m     67\u001b[0m     \u001b[39mtry\u001b[39;00m:\n\u001b[0;32m---> 68\u001b[0m         \u001b[39mreturn\u001b[39;00m func(\u001b[39m*\u001b[39;49margs, \u001b[39m*\u001b[39;49m\u001b[39m*\u001b[39;49mkwargs)\n\u001b[1;32m     69\u001b[0m     \u001b[39mexcept\u001b[39;00m grpc\u001b[39m.\u001b[39mRpcError \u001b[39mas\u001b[39;00m e:\n\u001b[1;32m     70\u001b[0m         \u001b[39m# Reference: https://grpc.github.io/grpc/python/grpc.html#grpc-status-code\u001b[39;00m\n\u001b[1;32m     71\u001b[0m         \u001b[39mif\u001b[39;00m e\u001b[39m.\u001b[39mcode() \u001b[39min\u001b[39;00m (\n\u001b[1;32m     72\u001b[0m             grpc\u001b[39m.\u001b[39mStatusCode\u001b[39m.\u001b[39mDEADLINE_EXCEEDED,\n\u001b[1;32m     73\u001b[0m             grpc\u001b[39m.\u001b[39mStatusCode\u001b[39m.\u001b[39mPERMISSION_DENIED,\n\u001b[0;32m   (...)\u001b[0m\n\u001b[1;32m     77\u001b[0m             grpc\u001b[39m.\u001b[39mStatusCode\u001b[39m.\u001b[39mRESOURCE_EXHAUSTED,\n\u001b[1;32m     78\u001b[0m         ):\n",
      "File \u001b[0;32m~/miniconda3/lib/python3.10/site-packages/pymilvus/client/grpc_handler.py:796\u001b[0m, in \u001b[0;36mGrpcHandler.list_indexes\u001b[0;34m(self, collection_name, timeout, **kwargs)\u001b[0m\n\u001b[1;32m    794\u001b[0m \u001b[39mif\u001b[39;00m status\u001b[39m.\u001b[39merror_code \u001b[39m==\u001b[39m Status\u001b[39m.\u001b[39mINDEX_NOT_EXIST:\n\u001b[1;32m    795\u001b[0m     \u001b[39mreturn\u001b[39;00m []\n\u001b[0;32m--> 796\u001b[0m \u001b[39mraise\u001b[39;00m MilvusException(status\u001b[39m.\u001b[39merror_code, status\u001b[39m.\u001b[39mreason)\n",
      "\u001b[0;31mMilvusException\u001b[0m: <MilvusException: (code=1, message=err: find no available indexcoord, check indexcoord state\n, /__w/milvus-lite/milvus-lite/milvus_binary/milvus/internal/util/trace/stack_trace.go:51 github.com/milvus-io/milvus/internal/util/trace.StackTrace\n/__w/milvus-lite/milvus-lite/milvus_binary/milvus/internal/util/grpcclient/client.go:352 github.com/milvus-io/milvus/internal/util/grpcclient.(*ClientBase[...]).ReCall\n/__w/milvus-lite/milvus-lite/milvus_binary/milvus/internal/distributed/indexcoord/client/client.go:208 github.com/milvus-io/milvus/internal/distributed/indexcoord/client.(*Client).DescribeIndex\n/__w/milvus-lite/milvus-lite/milvus_binary/milvus/internal/proxy/task_index.go:494 github.com/milvus-io/milvus/internal/proxy.(*describeIndexTask).Execute\n/__w/milvus-lite/milvus-lite/milvus_binary/milvus/internal/proxy/task_scheduler.go:470 github.com/milvus-io/milvus/internal/proxy.(*taskScheduler).processTask\n/__w/milvus-lite/milvus-lite/milvus_binary/milvus/internal/proxy/task_scheduler.go:499 github.com/milvus-io/milvus/internal/proxy.(*taskScheduler).definitionLoop\n/usr/local/go/src/runtime/asm_amd64.s:1571 runtime.goexit\n)>"
     ]
    }
   ],
   "source": [
    "import threading\n",
    "from langchain.document_loaders import TextLoader\n",
    "from langchain.text_splitter import RecursiveCharacterTextSplitter\n",
    "from langchain.vectorstores import Milvus\n",
    "from langchain.embeddings import XinferenceEmbeddings\n",
    "\n",
    "loader = TextLoader(\"/home/nijiayi/inference/examples/state_of_the_union.txt\")\n",
    "documents = loader.load()\n",
    "\n",
    "text_splitter = RecursiveCharacterTextSplitter(\n",
    "    chunk_size=512,\n",
    "    chunk_overlap=100,\n",
    "    length_function=len,\n",
    ")\n",
    "docs = text_splitter.split_documents(documents)\n",
    "\n",
    "xinference_embeddings = XinferenceEmbeddings(\n",
    "    server_url=\"http://127.0.0.1:12831\", \n",
    "    model_uid=\"0494223c-381d-11ee-86a4-fa163e74fa2d\"\n",
    ")\n",
    "\n",
    "connection_args = {\"host\": \"0.0.0.0\", \"port\": \"19530\"}\n",
    "\n",
    "vector_db = Milvus.from_documents(\n",
    "    [docs[0]],\n",
    "    xinference_embeddings,\n",
    "    connection_args=connection_args,\n",
    ")\n",
    "\n",
    "num_threads = 5  \n",
    "chunk_size = len(docs) // num_threads\n",
    "\n",
    "threads = []\n",
    "for i in range(1, len(docs), chunk_size):  \n",
    "    chunk = docs[i:i + chunk_size]\n",
    "    thread = threading.Thread(target=process_chunk, args=(chunk, vector_db))\n",
    "    threads.append(thread)\n",
    "    thread.start()\n",
    "\n",
    "for thread in threads:\n",
    "    thread.join()"
   ]
  },
  {
   "cell_type": "markdown",
   "metadata": {},
   "source": [
    "## Prepare the Documents"
   ]
  },
  {
   "cell_type": "code",
   "execution_count": 7,
   "metadata": {},
   "outputs": [],
   "source": [
    "from langchain.document_loaders import TextLoader\n",
    "from langchain.text_splitter import RecursiveCharacterTextSplitter\n",
    "\n",
    "loader = TextLoader(\"/home/nijiayi/inference/examples/state_of_the_union.txt\") # Replace with the path of the document you want to query from\n",
    "\n",
    "documents = loader.load()\n",
    "\n",
    "text_splitter = RecursiveCharacterTextSplitter(\n",
    "    chunk_size = 512,\n",
    "    chunk_overlap  = 100,\n",
    "    length_function = len,\n",
    ")\n",
    "docs = text_splitter.split_documents(documents)\n"
   ]
  },
  {
   "cell_type": "markdown",
   "metadata": {},
   "source": [
    "## Set Up an Embedding Model"
   ]
  },
  {
   "cell_type": "code",
   "execution_count": 8,
   "metadata": {},
   "outputs": [],
   "source": [
    "from langchain.embeddings import XinferenceEmbeddings\n",
    "\n",
    "xinference_embeddings = XinferenceEmbeddings(\n",
    "    server_url=\"http://127.0.0.1:12831\", \n",
    "    model_uid = \"0494223c-381d-11ee-86a4-fa163e74fa2d\" # model_uid is the uid returned from launching the model\n",
    ")"
   ]
  },
  {
   "cell_type": "markdown",
   "metadata": {},
   "source": [
    "## Connect to the Vector Database"
   ]
  },
  {
   "cell_type": "markdown",
   "metadata": {},
   "source": [
    "For vector store, we use the Milvus vector database. [Milvus](https://milvus.io/docs/overview.md) is a database that stores, indexes, and manages massive embedding vectors generated by deep neural networks and other machine learning models. To run, you can first [Install Milvus Standalone with Docker Compose](https://milvus.io/docs/install_standalone-docker.md), or use Milvus Lite in the following way:"
   ]
  },
  {
   "cell_type": "code",
   "execution_count": null,
   "metadata": {
    "vscode": {
     "languageId": "bat"
    }
   },
   "outputs": [],
   "source": [
    "$ pip install milvus\n",
    "\n",
    "$ milvus-server"
   ]
  },
  {
   "cell_type": "code",
   "execution_count": 11,
   "metadata": {},
   "outputs": [
    {
     "name": "stderr",
     "output_type": "stream",
     "text": [
      "RPC error: [list_indexes], <MilvusException: (code=1, message=err: find no available indexcoord, check indexcoord state\n",
      ", /__w/milvus-lite/milvus-lite/milvus_binary/milvus/internal/util/trace/stack_trace.go:51 github.com/milvus-io/milvus/internal/util/trace.StackTrace\n",
      "/__w/milvus-lite/milvus-lite/milvus_binary/milvus/internal/util/grpcclient/client.go:352 github.com/milvus-io/milvus/internal/util/grpcclient.(*ClientBase[...]).ReCall\n",
      "/__w/milvus-lite/milvus-lite/milvus_binary/milvus/internal/distributed/indexcoord/client/client.go:208 github.com/milvus-io/milvus/internal/distributed/indexcoord/client.(*Client).DescribeIndex\n",
      "/__w/milvus-lite/milvus-lite/milvus_binary/milvus/internal/proxy/task_index.go:494 github.com/milvus-io/milvus/internal/proxy.(*describeIndexTask).Execute\n",
      "/__w/milvus-lite/milvus-lite/milvus_binary/milvus/internal/proxy/task_scheduler.go:470 github.com/milvus-io/milvus/internal/proxy.(*taskScheduler).processTask\n",
      "/__w/milvus-lite/milvus-lite/milvus_binary/milvus/internal/proxy/task_scheduler.go:499 github.com/milvus-io/milvus/internal/proxy.(*taskScheduler).definitionLoop\n",
      "/usr/local/go/src/runtime/asm_amd64.s:1571 runtime.goexit\n",
      ")>, <Time:{'RPC start': '2023-08-11 16:39:41.650435', 'RPC error': '2023-08-11 16:39:41.651681'}>\n"
     ]
    },
    {
     "ename": "MilvusException",
     "evalue": "<MilvusException: (code=1, message=err: find no available indexcoord, check indexcoord state\n, /__w/milvus-lite/milvus-lite/milvus_binary/milvus/internal/util/trace/stack_trace.go:51 github.com/milvus-io/milvus/internal/util/trace.StackTrace\n/__w/milvus-lite/milvus-lite/milvus_binary/milvus/internal/util/grpcclient/client.go:352 github.com/milvus-io/milvus/internal/util/grpcclient.(*ClientBase[...]).ReCall\n/__w/milvus-lite/milvus-lite/milvus_binary/milvus/internal/distributed/indexcoord/client/client.go:208 github.com/milvus-io/milvus/internal/distributed/indexcoord/client.(*Client).DescribeIndex\n/__w/milvus-lite/milvus-lite/milvus_binary/milvus/internal/proxy/task_index.go:494 github.com/milvus-io/milvus/internal/proxy.(*describeIndexTask).Execute\n/__w/milvus-lite/milvus-lite/milvus_binary/milvus/internal/proxy/task_scheduler.go:470 github.com/milvus-io/milvus/internal/proxy.(*taskScheduler).processTask\n/__w/milvus-lite/milvus-lite/milvus_binary/milvus/internal/proxy/task_scheduler.go:499 github.com/milvus-io/milvus/internal/proxy.(*taskScheduler).definitionLoop\n/usr/local/go/src/runtime/asm_amd64.s:1571 runtime.goexit\n)>",
     "output_type": "error",
     "traceback": [
      "\u001b[0;31m---------------------------------------------------------------------------\u001b[0m",
      "\u001b[0;31mMilvusException\u001b[0m                           Traceback (most recent call last)",
      "    \u001b[0;31m[... skipping hidden 1 frame]\u001b[0m\n",
      "Cell \u001b[0;32mIn[11], line 3\u001b[0m\n\u001b[1;32m      1\u001b[0m \u001b[39mfrom\u001b[39;00m \u001b[39mlangchain\u001b[39;00m\u001b[39m.\u001b[39;00m\u001b[39mvectorstores\u001b[39;00m \u001b[39mimport\u001b[39;00m Milvus\n\u001b[0;32m----> 3\u001b[0m vector_db \u001b[39m=\u001b[39m Milvus\u001b[39m.\u001b[39;49mfrom_documents(\n\u001b[1;32m      4\u001b[0m     docs,\n\u001b[1;32m      5\u001b[0m     xinference_embeddings,\n\u001b[1;32m      6\u001b[0m     connection_args\u001b[39m=\u001b[39;49m{\u001b[39m\"\u001b[39;49m\u001b[39mhost\u001b[39;49m\u001b[39m\"\u001b[39;49m: \u001b[39m\"\u001b[39;49m\u001b[39m0.0.0.0\u001b[39;49m\u001b[39m\"\u001b[39;49m, \u001b[39m\"\u001b[39;49m\u001b[39mport\u001b[39;49m\u001b[39m\"\u001b[39;49m: \u001b[39m\"\u001b[39;49m\u001b[39m19530\u001b[39;49m\u001b[39m\"\u001b[39;49m},\n\u001b[1;32m      7\u001b[0m )\n",
      "File \u001b[0;32m~/miniconda3/lib/python3.10/site-packages/langchain/vectorstores/base.py:420\u001b[0m, in \u001b[0;36mVectorStore.from_documents\u001b[0;34m(cls, documents, embedding, **kwargs)\u001b[0m\n\u001b[1;32m    419\u001b[0m metadatas \u001b[39m=\u001b[39m [d\u001b[39m.\u001b[39mmetadata \u001b[39mfor\u001b[39;00m d \u001b[39min\u001b[39;00m documents]\n\u001b[0;32m--> 420\u001b[0m \u001b[39mreturn\u001b[39;00m \u001b[39mcls\u001b[39;49m\u001b[39m.\u001b[39;49mfrom_texts(texts, embedding, metadatas\u001b[39m=\u001b[39;49mmetadatas, \u001b[39m*\u001b[39;49m\u001b[39m*\u001b[39;49mkwargs)\n",
      "File \u001b[0;32m~/miniconda3/lib/python3.10/site-packages/langchain/vectorstores/milvus.py:812\u001b[0m, in \u001b[0;36mMilvus.from_texts\u001b[0;34m(cls, texts, embedding, metadatas, collection_name, connection_args, consistency_level, index_params, search_params, drop_old, **kwargs)\u001b[0m\n\u001b[1;32m    789\u001b[0m \u001b[39m\u001b[39m\u001b[39m\"\"\"Create a Milvus collection, indexes it with HNSW, and insert data.\u001b[39;00m\n\u001b[1;32m    790\u001b[0m \n\u001b[1;32m    791\u001b[0m \u001b[39mArgs:\u001b[39;00m\n\u001b[0;32m   (...)\u001b[0m\n\u001b[1;32m    810\u001b[0m \u001b[39m    Milvus: Milvus Vector Store\u001b[39;00m\n\u001b[1;32m    811\u001b[0m \u001b[39m\"\"\"\u001b[39;00m\n\u001b[0;32m--> 812\u001b[0m vector_db \u001b[39m=\u001b[39m \u001b[39mcls\u001b[39;49m(\n\u001b[1;32m    813\u001b[0m     embedding_function\u001b[39m=\u001b[39;49membedding,\n\u001b[1;32m    814\u001b[0m     collection_name\u001b[39m=\u001b[39;49mcollection_name,\n\u001b[1;32m    815\u001b[0m     connection_args\u001b[39m=\u001b[39;49mconnection_args,\n\u001b[1;32m    816\u001b[0m     consistency_level\u001b[39m=\u001b[39;49mconsistency_level,\n\u001b[1;32m    817\u001b[0m     index_params\u001b[39m=\u001b[39;49mindex_params,\n\u001b[1;32m    818\u001b[0m     search_params\u001b[39m=\u001b[39;49msearch_params,\n\u001b[1;32m    819\u001b[0m     drop_old\u001b[39m=\u001b[39;49mdrop_old,\n\u001b[1;32m    820\u001b[0m     \u001b[39m*\u001b[39;49m\u001b[39m*\u001b[39;49mkwargs,\n\u001b[1;32m    821\u001b[0m )\n\u001b[1;32m    822\u001b[0m vector_db\u001b[39m.\u001b[39madd_texts(texts\u001b[39m=\u001b[39mtexts, metadatas\u001b[39m=\u001b[39mmetadatas)\n",
      "File \u001b[0;32m~/miniconda3/lib/python3.10/site-packages/langchain/vectorstores/milvus.py:165\u001b[0m, in \u001b[0;36mMilvus.__init__\u001b[0;34m(self, embedding_function, collection_name, connection_args, consistency_level, index_params, search_params, drop_old)\u001b[0m\n\u001b[1;32m    164\u001b[0m \u001b[39m# Initialize the vector store\u001b[39;00m\n\u001b[0;32m--> 165\u001b[0m \u001b[39mself\u001b[39;49m\u001b[39m.\u001b[39;49m_init()\n",
      "File \u001b[0;32m~/miniconda3/lib/python3.10/site-packages/langchain/vectorstores/milvus.py:229\u001b[0m, in \u001b[0;36mMilvus._init\u001b[0;34m(self, embeddings, metadatas)\u001b[0m\n\u001b[1;32m    228\u001b[0m \u001b[39mself\u001b[39m\u001b[39m.\u001b[39m_extract_fields()\n\u001b[0;32m--> 229\u001b[0m \u001b[39mself\u001b[39;49m\u001b[39m.\u001b[39;49m_create_index()\n\u001b[1;32m    230\u001b[0m \u001b[39mself\u001b[39m\u001b[39m.\u001b[39m_create_search_params()\n",
      "File \u001b[0;32m~/miniconda3/lib/python3.10/site-packages/langchain/vectorstores/milvus.py:324\u001b[0m, in \u001b[0;36mMilvus._create_index\u001b[0;34m(self)\u001b[0m\n\u001b[1;32m    322\u001b[0m \u001b[39mfrom\u001b[39;00m \u001b[39mpymilvus\u001b[39;00m \u001b[39mimport\u001b[39;00m Collection, MilvusException\n\u001b[0;32m--> 324\u001b[0m \u001b[39mif\u001b[39;00m \u001b[39misinstance\u001b[39m(\u001b[39mself\u001b[39m\u001b[39m.\u001b[39mcol, Collection) \u001b[39mand\u001b[39;00m \u001b[39mself\u001b[39;49m\u001b[39m.\u001b[39;49m_get_index() \u001b[39mis\u001b[39;00m \u001b[39mNone\u001b[39;00m:\n\u001b[1;32m    325\u001b[0m     \u001b[39mtry\u001b[39;00m:\n\u001b[1;32m    326\u001b[0m         \u001b[39m# If no index params, use a default HNSW based one\u001b[39;00m\n",
      "File \u001b[0;32m~/miniconda3/lib/python3.10/site-packages/langchain/vectorstores/milvus.py:315\u001b[0m, in \u001b[0;36mMilvus._get_index\u001b[0;34m(self)\u001b[0m\n\u001b[1;32m    314\u001b[0m \u001b[39mif\u001b[39;00m \u001b[39misinstance\u001b[39m(\u001b[39mself\u001b[39m\u001b[39m.\u001b[39mcol, Collection):\n\u001b[0;32m--> 315\u001b[0m     \u001b[39mfor\u001b[39;00m x \u001b[39min\u001b[39;00m \u001b[39mself\u001b[39;49m\u001b[39m.\u001b[39;49mcol\u001b[39m.\u001b[39;49mindexes:\n\u001b[1;32m    316\u001b[0m         \u001b[39mif\u001b[39;00m x\u001b[39m.\u001b[39mfield_name \u001b[39m==\u001b[39m \u001b[39mself\u001b[39m\u001b[39m.\u001b[39m_vector_field:\n",
      "File \u001b[0;32m~/miniconda3/lib/python3.10/site-packages/pymilvus/orm/collection.py:980\u001b[0m, in \u001b[0;36mCollection.indexes\u001b[0;34m(self, **kwargs)\u001b[0m\n\u001b[1;32m    979\u001b[0m indexes \u001b[39m=\u001b[39m []\n\u001b[0;32m--> 980\u001b[0m tmp_index \u001b[39m=\u001b[39m conn\u001b[39m.\u001b[39;49mlist_indexes(\u001b[39mself\u001b[39;49m\u001b[39m.\u001b[39;49m_name, \u001b[39m*\u001b[39;49m\u001b[39m*\u001b[39;49mkwargs)\n\u001b[1;32m    981\u001b[0m \u001b[39mfor\u001b[39;00m index \u001b[39min\u001b[39;00m tmp_index:\n",
      "File \u001b[0;32m~/miniconda3/lib/python3.10/site-packages/pymilvus/decorators.py:127\u001b[0m, in \u001b[0;36merror_handler.<locals>.wrapper.<locals>.handler\u001b[0;34m(*args, **kwargs)\u001b[0m\n\u001b[1;32m    126\u001b[0m     LOGGER\u001b[39m.\u001b[39merror(\u001b[39mf\u001b[39m\u001b[39m\"\u001b[39m\u001b[39mRPC error: [\u001b[39m\u001b[39m{\u001b[39;00minner_name\u001b[39m}\u001b[39;00m\u001b[39m], \u001b[39m\u001b[39m{\u001b[39;00me\u001b[39m}\u001b[39;00m\u001b[39m, <Time:\u001b[39m\u001b[39m{\u001b[39;00mrecord_dict\u001b[39m}\u001b[39;00m\u001b[39m>\u001b[39m\u001b[39m\"\u001b[39m)\n\u001b[0;32m--> 127\u001b[0m     \u001b[39mraise\u001b[39;00m e \u001b[39mfrom\u001b[39;00m \u001b[39me\u001b[39;00m\n\u001b[1;32m    128\u001b[0m \u001b[39mexcept\u001b[39;00m grpc\u001b[39m.\u001b[39mFutureTimeoutError \u001b[39mas\u001b[39;00m e:\n",
      "File \u001b[0;32m~/miniconda3/lib/python3.10/site-packages/pymilvus/decorators.py:123\u001b[0m, in \u001b[0;36merror_handler.<locals>.wrapper.<locals>.handler\u001b[0;34m(*args, **kwargs)\u001b[0m\n\u001b[1;32m    122\u001b[0m     record_dict[\u001b[39m\"\u001b[39m\u001b[39mRPC start\u001b[39m\u001b[39m\"\u001b[39m] \u001b[39m=\u001b[39m \u001b[39mstr\u001b[39m(datetime\u001b[39m.\u001b[39mdatetime\u001b[39m.\u001b[39mnow())\n\u001b[0;32m--> 123\u001b[0m     \u001b[39mreturn\u001b[39;00m func(\u001b[39m*\u001b[39;49margs, \u001b[39m*\u001b[39;49m\u001b[39m*\u001b[39;49mkwargs)\n\u001b[1;32m    124\u001b[0m \u001b[39mexcept\u001b[39;00m MilvusException \u001b[39mas\u001b[39;00m e:\n",
      "File \u001b[0;32m~/miniconda3/lib/python3.10/site-packages/pymilvus/decorators.py:162\u001b[0m, in \u001b[0;36mtracing_request.<locals>.wrapper.<locals>.handler\u001b[0;34m(self, *args, **kwargs)\u001b[0m\n\u001b[1;32m    161\u001b[0m     \u001b[39mself\u001b[39m\u001b[39m.\u001b[39mset_onetime_request_id(req_id)\n\u001b[0;32m--> 162\u001b[0m \u001b[39mreturn\u001b[39;00m func(\u001b[39mself\u001b[39;49m, \u001b[39m*\u001b[39;49margs, \u001b[39m*\u001b[39;49m\u001b[39m*\u001b[39;49mkwargs)\n",
      "File \u001b[0;32m~/miniconda3/lib/python3.10/site-packages/pymilvus/decorators.py:102\u001b[0m, in \u001b[0;36mretry_on_rpc_failure.<locals>.wrapper.<locals>.handler\u001b[0;34m(*args, **kwargs)\u001b[0m\n\u001b[1;32m    101\u001b[0m     \u001b[39melse\u001b[39;00m:\n\u001b[0;32m--> 102\u001b[0m         \u001b[39mraise\u001b[39;00m e \u001b[39mfrom\u001b[39;00m \u001b[39me\u001b[39;00m\n\u001b[1;32m    103\u001b[0m \u001b[39mexcept\u001b[39;00m \u001b[39mException\u001b[39;00m \u001b[39mas\u001b[39;00m e:\n",
      "File \u001b[0;32m~/miniconda3/lib/python3.10/site-packages/pymilvus/decorators.py:68\u001b[0m, in \u001b[0;36mretry_on_rpc_failure.<locals>.wrapper.<locals>.handler\u001b[0;34m(*args, **kwargs)\u001b[0m\n\u001b[1;32m     67\u001b[0m \u001b[39mtry\u001b[39;00m:\n\u001b[0;32m---> 68\u001b[0m     \u001b[39mreturn\u001b[39;00m func(\u001b[39m*\u001b[39;49margs, \u001b[39m*\u001b[39;49m\u001b[39m*\u001b[39;49mkwargs)\n\u001b[1;32m     69\u001b[0m \u001b[39mexcept\u001b[39;00m grpc\u001b[39m.\u001b[39mRpcError \u001b[39mas\u001b[39;00m e:\n\u001b[1;32m     70\u001b[0m     \u001b[39m# Reference: https://grpc.github.io/grpc/python/grpc.html#grpc-status-code\u001b[39;00m\n",
      "File \u001b[0;32m~/miniconda3/lib/python3.10/site-packages/pymilvus/client/grpc_handler.py:796\u001b[0m, in \u001b[0;36mGrpcHandler.list_indexes\u001b[0;34m(self, collection_name, timeout, **kwargs)\u001b[0m\n\u001b[1;32m    795\u001b[0m     \u001b[39mreturn\u001b[39;00m []\n\u001b[0;32m--> 796\u001b[0m \u001b[39mraise\u001b[39;00m MilvusException(status\u001b[39m.\u001b[39merror_code, status\u001b[39m.\u001b[39mreason)\n",
      "\u001b[0;31mMilvusException\u001b[0m: <MilvusException: (code=1, message=err: find no available indexcoord, check indexcoord state\n, /__w/milvus-lite/milvus-lite/milvus_binary/milvus/internal/util/trace/stack_trace.go:51 github.com/milvus-io/milvus/internal/util/trace.StackTrace\n/__w/milvus-lite/milvus-lite/milvus_binary/milvus/internal/util/grpcclient/client.go:352 github.com/milvus-io/milvus/internal/util/grpcclient.(*ClientBase[...]).ReCall\n/__w/milvus-lite/milvus-lite/milvus_binary/milvus/internal/distributed/indexcoord/client/client.go:208 github.com/milvus-io/milvus/internal/distributed/indexcoord/client.(*Client).DescribeIndex\n/__w/milvus-lite/milvus-lite/milvus_binary/milvus/internal/proxy/task_index.go:494 github.com/milvus-io/milvus/internal/proxy.(*describeIndexTask).Execute\n/__w/milvus-lite/milvus-lite/milvus_binary/milvus/internal/proxy/task_scheduler.go:470 github.com/milvus-io/milvus/internal/proxy.(*taskScheduler).processTask\n/__w/milvus-lite/milvus-lite/milvus_binary/milvus/internal/proxy/task_scheduler.go:499 github.com/milvus-io/milvus/internal/proxy.(*taskScheduler).definitionLoop\n/usr/local/go/src/runtime/asm_amd64.s:1571 runtime.goexit\n)>",
      "\nThe above exception was the direct cause of the following exception:\n",
      "\u001b[0;31mMilvusException\u001b[0m                           Traceback (most recent call last)",
      "    \u001b[0;31m[... skipping hidden 1 frame]\u001b[0m\n",
      "Cell \u001b[0;32mIn[11], line 3\u001b[0m\n\u001b[1;32m      1\u001b[0m \u001b[39mfrom\u001b[39;00m \u001b[39mlangchain\u001b[39;00m\u001b[39m.\u001b[39;00m\u001b[39mvectorstores\u001b[39;00m \u001b[39mimport\u001b[39;00m Milvus\n\u001b[0;32m----> 3\u001b[0m vector_db \u001b[39m=\u001b[39m Milvus\u001b[39m.\u001b[39;49mfrom_documents(\n\u001b[1;32m      4\u001b[0m     docs,\n\u001b[1;32m      5\u001b[0m     xinference_embeddings,\n\u001b[1;32m      6\u001b[0m     connection_args\u001b[39m=\u001b[39;49m{\u001b[39m\"\u001b[39;49m\u001b[39mhost\u001b[39;49m\u001b[39m\"\u001b[39;49m: \u001b[39m\"\u001b[39;49m\u001b[39m0.0.0.0\u001b[39;49m\u001b[39m\"\u001b[39;49m, \u001b[39m\"\u001b[39;49m\u001b[39mport\u001b[39;49m\u001b[39m\"\u001b[39;49m: \u001b[39m\"\u001b[39;49m\u001b[39m19530\u001b[39;49m\u001b[39m\"\u001b[39;49m},\n\u001b[1;32m      7\u001b[0m )\n",
      "File \u001b[0;32m~/miniconda3/lib/python3.10/site-packages/langchain/vectorstores/base.py:420\u001b[0m, in \u001b[0;36mVectorStore.from_documents\u001b[0;34m(cls, documents, embedding, **kwargs)\u001b[0m\n\u001b[1;32m    419\u001b[0m metadatas \u001b[39m=\u001b[39m [d\u001b[39m.\u001b[39mmetadata \u001b[39mfor\u001b[39;00m d \u001b[39min\u001b[39;00m documents]\n\u001b[0;32m--> 420\u001b[0m \u001b[39mreturn\u001b[39;00m \u001b[39mcls\u001b[39;49m\u001b[39m.\u001b[39;49mfrom_texts(texts, embedding, metadatas\u001b[39m=\u001b[39;49mmetadatas, \u001b[39m*\u001b[39;49m\u001b[39m*\u001b[39;49mkwargs)\n",
      "File \u001b[0;32m~/miniconda3/lib/python3.10/site-packages/langchain/vectorstores/milvus.py:812\u001b[0m, in \u001b[0;36mMilvus.from_texts\u001b[0;34m(cls, texts, embedding, metadatas, collection_name, connection_args, consistency_level, index_params, search_params, drop_old, **kwargs)\u001b[0m\n\u001b[1;32m    789\u001b[0m \u001b[39m\u001b[39m\u001b[39m\"\"\"Create a Milvus collection, indexes it with HNSW, and insert data.\u001b[39;00m\n\u001b[1;32m    790\u001b[0m \n\u001b[1;32m    791\u001b[0m \u001b[39mArgs:\u001b[39;00m\n\u001b[0;32m   (...)\u001b[0m\n\u001b[1;32m    810\u001b[0m \u001b[39m    Milvus: Milvus Vector Store\u001b[39;00m\n\u001b[1;32m    811\u001b[0m \u001b[39m\"\"\"\u001b[39;00m\n\u001b[0;32m--> 812\u001b[0m vector_db \u001b[39m=\u001b[39m \u001b[39mcls\u001b[39;49m(\n\u001b[1;32m    813\u001b[0m     embedding_function\u001b[39m=\u001b[39;49membedding,\n\u001b[1;32m    814\u001b[0m     collection_name\u001b[39m=\u001b[39;49mcollection_name,\n\u001b[1;32m    815\u001b[0m     connection_args\u001b[39m=\u001b[39;49mconnection_args,\n\u001b[1;32m    816\u001b[0m     consistency_level\u001b[39m=\u001b[39;49mconsistency_level,\n\u001b[1;32m    817\u001b[0m     index_params\u001b[39m=\u001b[39;49mindex_params,\n\u001b[1;32m    818\u001b[0m     search_params\u001b[39m=\u001b[39;49msearch_params,\n\u001b[1;32m    819\u001b[0m     drop_old\u001b[39m=\u001b[39;49mdrop_old,\n\u001b[1;32m    820\u001b[0m     \u001b[39m*\u001b[39;49m\u001b[39m*\u001b[39;49mkwargs,\n\u001b[1;32m    821\u001b[0m )\n\u001b[1;32m    822\u001b[0m vector_db\u001b[39m.\u001b[39madd_texts(texts\u001b[39m=\u001b[39mtexts, metadatas\u001b[39m=\u001b[39mmetadatas)\n",
      "File \u001b[0;32m~/miniconda3/lib/python3.10/site-packages/langchain/vectorstores/milvus.py:165\u001b[0m, in \u001b[0;36mMilvus.__init__\u001b[0;34m(self, embedding_function, collection_name, connection_args, consistency_level, index_params, search_params, drop_old)\u001b[0m\n\u001b[1;32m    164\u001b[0m \u001b[39m# Initialize the vector store\u001b[39;00m\n\u001b[0;32m--> 165\u001b[0m \u001b[39mself\u001b[39;49m\u001b[39m.\u001b[39;49m_init()\n",
      "File \u001b[0;32m~/miniconda3/lib/python3.10/site-packages/langchain/vectorstores/milvus.py:229\u001b[0m, in \u001b[0;36mMilvus._init\u001b[0;34m(self, embeddings, metadatas)\u001b[0m\n\u001b[1;32m    228\u001b[0m \u001b[39mself\u001b[39m\u001b[39m.\u001b[39m_extract_fields()\n\u001b[0;32m--> 229\u001b[0m \u001b[39mself\u001b[39;49m\u001b[39m.\u001b[39;49m_create_index()\n\u001b[1;32m    230\u001b[0m \u001b[39mself\u001b[39m\u001b[39m.\u001b[39m_create_search_params()\n",
      "File \u001b[0;32m~/miniconda3/lib/python3.10/site-packages/langchain/vectorstores/milvus.py:324\u001b[0m, in \u001b[0;36mMilvus._create_index\u001b[0;34m(self)\u001b[0m\n\u001b[1;32m    322\u001b[0m \u001b[39mfrom\u001b[39;00m \u001b[39mpymilvus\u001b[39;00m \u001b[39mimport\u001b[39;00m Collection, MilvusException\n\u001b[0;32m--> 324\u001b[0m \u001b[39mif\u001b[39;00m \u001b[39misinstance\u001b[39m(\u001b[39mself\u001b[39m\u001b[39m.\u001b[39mcol, Collection) \u001b[39mand\u001b[39;00m \u001b[39mself\u001b[39;49m\u001b[39m.\u001b[39;49m_get_index() \u001b[39mis\u001b[39;00m \u001b[39mNone\u001b[39;00m:\n\u001b[1;32m    325\u001b[0m     \u001b[39mtry\u001b[39;00m:\n\u001b[1;32m    326\u001b[0m         \u001b[39m# If no index params, use a default HNSW based one\u001b[39;00m\n",
      "File \u001b[0;32m~/miniconda3/lib/python3.10/site-packages/langchain/vectorstores/milvus.py:315\u001b[0m, in \u001b[0;36mMilvus._get_index\u001b[0;34m(self)\u001b[0m\n\u001b[1;32m    314\u001b[0m \u001b[39mif\u001b[39;00m \u001b[39misinstance\u001b[39m(\u001b[39mself\u001b[39m\u001b[39m.\u001b[39mcol, Collection):\n\u001b[0;32m--> 315\u001b[0m     \u001b[39mfor\u001b[39;00m x \u001b[39min\u001b[39;00m \u001b[39mself\u001b[39;49m\u001b[39m.\u001b[39;49mcol\u001b[39m.\u001b[39;49mindexes:\n\u001b[1;32m    316\u001b[0m         \u001b[39mif\u001b[39;00m x\u001b[39m.\u001b[39mfield_name \u001b[39m==\u001b[39m \u001b[39mself\u001b[39m\u001b[39m.\u001b[39m_vector_field:\n",
      "File \u001b[0;32m~/miniconda3/lib/python3.10/site-packages/pymilvus/orm/collection.py:980\u001b[0m, in \u001b[0;36mCollection.indexes\u001b[0;34m(self, **kwargs)\u001b[0m\n\u001b[1;32m    979\u001b[0m indexes \u001b[39m=\u001b[39m []\n\u001b[0;32m--> 980\u001b[0m tmp_index \u001b[39m=\u001b[39m conn\u001b[39m.\u001b[39;49mlist_indexes(\u001b[39mself\u001b[39;49m\u001b[39m.\u001b[39;49m_name, \u001b[39m*\u001b[39;49m\u001b[39m*\u001b[39;49mkwargs)\n\u001b[1;32m    981\u001b[0m \u001b[39mfor\u001b[39;00m index \u001b[39min\u001b[39;00m tmp_index:\n",
      "File \u001b[0;32m~/miniconda3/lib/python3.10/site-packages/pymilvus/decorators.py:127\u001b[0m, in \u001b[0;36merror_handler.<locals>.wrapper.<locals>.handler\u001b[0;34m(*args, **kwargs)\u001b[0m\n\u001b[1;32m    126\u001b[0m     LOGGER\u001b[39m.\u001b[39merror(\u001b[39mf\u001b[39m\u001b[39m\"\u001b[39m\u001b[39mRPC error: [\u001b[39m\u001b[39m{\u001b[39;00minner_name\u001b[39m}\u001b[39;00m\u001b[39m], \u001b[39m\u001b[39m{\u001b[39;00me\u001b[39m}\u001b[39;00m\u001b[39m, <Time:\u001b[39m\u001b[39m{\u001b[39;00mrecord_dict\u001b[39m}\u001b[39;00m\u001b[39m>\u001b[39m\u001b[39m\"\u001b[39m)\n\u001b[0;32m--> 127\u001b[0m     \u001b[39mraise\u001b[39;00m e \u001b[39mfrom\u001b[39;00m \u001b[39me\u001b[39;00m\n\u001b[1;32m    128\u001b[0m \u001b[39mexcept\u001b[39;00m grpc\u001b[39m.\u001b[39mFutureTimeoutError \u001b[39mas\u001b[39;00m e:\n",
      "File \u001b[0;32m~/miniconda3/lib/python3.10/site-packages/pymilvus/decorators.py:123\u001b[0m, in \u001b[0;36merror_handler.<locals>.wrapper.<locals>.handler\u001b[0;34m(*args, **kwargs)\u001b[0m\n\u001b[1;32m    122\u001b[0m     record_dict[\u001b[39m\"\u001b[39m\u001b[39mRPC start\u001b[39m\u001b[39m\"\u001b[39m] \u001b[39m=\u001b[39m \u001b[39mstr\u001b[39m(datetime\u001b[39m.\u001b[39mdatetime\u001b[39m.\u001b[39mnow())\n\u001b[0;32m--> 123\u001b[0m     \u001b[39mreturn\u001b[39;00m func(\u001b[39m*\u001b[39;49margs, \u001b[39m*\u001b[39;49m\u001b[39m*\u001b[39;49mkwargs)\n\u001b[1;32m    124\u001b[0m \u001b[39mexcept\u001b[39;00m MilvusException \u001b[39mas\u001b[39;00m e:\n",
      "File \u001b[0;32m~/miniconda3/lib/python3.10/site-packages/pymilvus/decorators.py:162\u001b[0m, in \u001b[0;36mtracing_request.<locals>.wrapper.<locals>.handler\u001b[0;34m(self, *args, **kwargs)\u001b[0m\n\u001b[1;32m    161\u001b[0m     \u001b[39mself\u001b[39m\u001b[39m.\u001b[39mset_onetime_request_id(req_id)\n\u001b[0;32m--> 162\u001b[0m \u001b[39mreturn\u001b[39;00m func(\u001b[39mself\u001b[39;49m, \u001b[39m*\u001b[39;49margs, \u001b[39m*\u001b[39;49m\u001b[39m*\u001b[39;49mkwargs)\n",
      "File \u001b[0;32m~/miniconda3/lib/python3.10/site-packages/pymilvus/decorators.py:102\u001b[0m, in \u001b[0;36mretry_on_rpc_failure.<locals>.wrapper.<locals>.handler\u001b[0;34m(*args, **kwargs)\u001b[0m\n\u001b[1;32m    101\u001b[0m     \u001b[39melse\u001b[39;00m:\n\u001b[0;32m--> 102\u001b[0m         \u001b[39mraise\u001b[39;00m e \u001b[39mfrom\u001b[39;00m \u001b[39me\u001b[39;00m\n\u001b[1;32m    103\u001b[0m \u001b[39mexcept\u001b[39;00m \u001b[39mException\u001b[39;00m \u001b[39mas\u001b[39;00m e:\n",
      "File \u001b[0;32m~/miniconda3/lib/python3.10/site-packages/pymilvus/decorators.py:68\u001b[0m, in \u001b[0;36mretry_on_rpc_failure.<locals>.wrapper.<locals>.handler\u001b[0;34m(*args, **kwargs)\u001b[0m\n\u001b[1;32m     67\u001b[0m \u001b[39mtry\u001b[39;00m:\n\u001b[0;32m---> 68\u001b[0m     \u001b[39mreturn\u001b[39;00m func(\u001b[39m*\u001b[39;49margs, \u001b[39m*\u001b[39;49m\u001b[39m*\u001b[39;49mkwargs)\n\u001b[1;32m     69\u001b[0m \u001b[39mexcept\u001b[39;00m grpc\u001b[39m.\u001b[39mRpcError \u001b[39mas\u001b[39;00m e:\n\u001b[1;32m     70\u001b[0m     \u001b[39m# Reference: https://grpc.github.io/grpc/python/grpc.html#grpc-status-code\u001b[39;00m\n",
      "File \u001b[0;32m~/miniconda3/lib/python3.10/site-packages/pymilvus/client/grpc_handler.py:796\u001b[0m, in \u001b[0;36mGrpcHandler.list_indexes\u001b[0;34m(self, collection_name, timeout, **kwargs)\u001b[0m\n\u001b[1;32m    795\u001b[0m     \u001b[39mreturn\u001b[39;00m []\n\u001b[0;32m--> 796\u001b[0m \u001b[39mraise\u001b[39;00m MilvusException(status\u001b[39m.\u001b[39merror_code, status\u001b[39m.\u001b[39mreason)\n",
      "\u001b[0;31mMilvusException\u001b[0m: <MilvusException: (code=1, message=err: find no available indexcoord, check indexcoord state\n, /__w/milvus-lite/milvus-lite/milvus_binary/milvus/internal/util/trace/stack_trace.go:51 github.com/milvus-io/milvus/internal/util/trace.StackTrace\n/__w/milvus-lite/milvus-lite/milvus_binary/milvus/internal/util/grpcclient/client.go:352 github.com/milvus-io/milvus/internal/util/grpcclient.(*ClientBase[...]).ReCall\n/__w/milvus-lite/milvus-lite/milvus_binary/milvus/internal/distributed/indexcoord/client/client.go:208 github.com/milvus-io/milvus/internal/distributed/indexcoord/client.(*Client).DescribeIndex\n/__w/milvus-lite/milvus-lite/milvus_binary/milvus/internal/proxy/task_index.go:494 github.com/milvus-io/milvus/internal/proxy.(*describeIndexTask).Execute\n/__w/milvus-lite/milvus-lite/milvus_binary/milvus/internal/proxy/task_scheduler.go:470 github.com/milvus-io/milvus/internal/proxy.(*taskScheduler).processTask\n/__w/milvus-lite/milvus-lite/milvus_binary/milvus/internal/proxy/task_scheduler.go:499 github.com/milvus-io/milvus/internal/proxy.(*taskScheduler).definitionLoop\n/usr/local/go/src/runtime/asm_amd64.s:1571 runtime.goexit\n)>",
      "\nThe above exception was the direct cause of the following exception:\n",
      "\u001b[0;31mMilvusException\u001b[0m                           Traceback (most recent call last)",
      "Cell \u001b[0;32mIn[11], line 3\u001b[0m\n\u001b[1;32m      1\u001b[0m \u001b[39mfrom\u001b[39;00m \u001b[39mlangchain\u001b[39;00m\u001b[39m.\u001b[39;00m\u001b[39mvectorstores\u001b[39;00m \u001b[39mimport\u001b[39;00m Milvus\n\u001b[0;32m----> 3\u001b[0m vector_db \u001b[39m=\u001b[39m Milvus\u001b[39m.\u001b[39;49mfrom_documents(\n\u001b[1;32m      4\u001b[0m     docs,\n\u001b[1;32m      5\u001b[0m     xinference_embeddings,\n\u001b[1;32m      6\u001b[0m     connection_args\u001b[39m=\u001b[39;49m{\u001b[39m\"\u001b[39;49m\u001b[39mhost\u001b[39;49m\u001b[39m\"\u001b[39;49m: \u001b[39m\"\u001b[39;49m\u001b[39m0.0.0.0\u001b[39;49m\u001b[39m\"\u001b[39;49m, \u001b[39m\"\u001b[39;49m\u001b[39mport\u001b[39;49m\u001b[39m\"\u001b[39;49m: \u001b[39m\"\u001b[39;49m\u001b[39m19530\u001b[39;49m\u001b[39m\"\u001b[39;49m},\n\u001b[1;32m      7\u001b[0m )\n",
      "File \u001b[0;32m~/miniconda3/lib/python3.10/site-packages/langchain/vectorstores/base.py:420\u001b[0m, in \u001b[0;36mVectorStore.from_documents\u001b[0;34m(cls, documents, embedding, **kwargs)\u001b[0m\n\u001b[1;32m    418\u001b[0m texts \u001b[39m=\u001b[39m [d\u001b[39m.\u001b[39mpage_content \u001b[39mfor\u001b[39;00m d \u001b[39min\u001b[39;00m documents]\n\u001b[1;32m    419\u001b[0m metadatas \u001b[39m=\u001b[39m [d\u001b[39m.\u001b[39mmetadata \u001b[39mfor\u001b[39;00m d \u001b[39min\u001b[39;00m documents]\n\u001b[0;32m--> 420\u001b[0m \u001b[39mreturn\u001b[39;00m \u001b[39mcls\u001b[39;49m\u001b[39m.\u001b[39;49mfrom_texts(texts, embedding, metadatas\u001b[39m=\u001b[39;49mmetadatas, \u001b[39m*\u001b[39;49m\u001b[39m*\u001b[39;49mkwargs)\n",
      "File \u001b[0;32m~/miniconda3/lib/python3.10/site-packages/langchain/vectorstores/milvus.py:812\u001b[0m, in \u001b[0;36mMilvus.from_texts\u001b[0;34m(cls, texts, embedding, metadatas, collection_name, connection_args, consistency_level, index_params, search_params, drop_old, **kwargs)\u001b[0m\n\u001b[1;32m    775\u001b[0m \u001b[39m@classmethod\u001b[39m\n\u001b[1;32m    776\u001b[0m \u001b[39mdef\u001b[39;00m \u001b[39mfrom_texts\u001b[39m(\n\u001b[1;32m    777\u001b[0m     \u001b[39mcls\u001b[39m,\n\u001b[0;32m   (...)\u001b[0m\n\u001b[1;32m    787\u001b[0m     \u001b[39m*\u001b[39m\u001b[39m*\u001b[39mkwargs: Any,\n\u001b[1;32m    788\u001b[0m ) \u001b[39m-\u001b[39m\u001b[39m>\u001b[39m Milvus:\n\u001b[1;32m    789\u001b[0m \u001b[39m    \u001b[39m\u001b[39m\"\"\"Create a Milvus collection, indexes it with HNSW, and insert data.\u001b[39;00m\n\u001b[1;32m    790\u001b[0m \n\u001b[1;32m    791\u001b[0m \u001b[39m    Args:\u001b[39;00m\n\u001b[0;32m   (...)\u001b[0m\n\u001b[1;32m    810\u001b[0m \u001b[39m        Milvus: Milvus Vector Store\u001b[39;00m\n\u001b[1;32m    811\u001b[0m \u001b[39m    \"\"\"\u001b[39;00m\n\u001b[0;32m--> 812\u001b[0m     vector_db \u001b[39m=\u001b[39m \u001b[39mcls\u001b[39;49m(\n\u001b[1;32m    813\u001b[0m         embedding_function\u001b[39m=\u001b[39;49membedding,\n\u001b[1;32m    814\u001b[0m         collection_name\u001b[39m=\u001b[39;49mcollection_name,\n\u001b[1;32m    815\u001b[0m         connection_args\u001b[39m=\u001b[39;49mconnection_args,\n\u001b[1;32m    816\u001b[0m         consistency_level\u001b[39m=\u001b[39;49mconsistency_level,\n\u001b[1;32m    817\u001b[0m         index_params\u001b[39m=\u001b[39;49mindex_params,\n\u001b[1;32m    818\u001b[0m         search_params\u001b[39m=\u001b[39;49msearch_params,\n\u001b[1;32m    819\u001b[0m         drop_old\u001b[39m=\u001b[39;49mdrop_old,\n\u001b[1;32m    820\u001b[0m         \u001b[39m*\u001b[39;49m\u001b[39m*\u001b[39;49mkwargs,\n\u001b[1;32m    821\u001b[0m     )\n\u001b[1;32m    822\u001b[0m     vector_db\u001b[39m.\u001b[39madd_texts(texts\u001b[39m=\u001b[39mtexts, metadatas\u001b[39m=\u001b[39mmetadatas)\n\u001b[1;32m    823\u001b[0m     \u001b[39mreturn\u001b[39;00m vector_db\n",
      "File \u001b[0;32m~/miniconda3/lib/python3.10/site-packages/langchain/vectorstores/milvus.py:165\u001b[0m, in \u001b[0;36mMilvus.__init__\u001b[0;34m(self, embedding_function, collection_name, connection_args, consistency_level, index_params, search_params, drop_old)\u001b[0m\n\u001b[1;32m    162\u001b[0m     \u001b[39mself\u001b[39m\u001b[39m.\u001b[39mcol \u001b[39m=\u001b[39m \u001b[39mNone\u001b[39;00m\n\u001b[1;32m    164\u001b[0m \u001b[39m# Initialize the vector store\u001b[39;00m\n\u001b[0;32m--> 165\u001b[0m \u001b[39mself\u001b[39;49m\u001b[39m.\u001b[39;49m_init()\n",
      "File \u001b[0;32m~/miniconda3/lib/python3.10/site-packages/langchain/vectorstores/milvus.py:229\u001b[0m, in \u001b[0;36mMilvus._init\u001b[0;34m(self, embeddings, metadatas)\u001b[0m\n\u001b[1;32m    227\u001b[0m     \u001b[39mself\u001b[39m\u001b[39m.\u001b[39m_create_collection(embeddings, metadatas)\n\u001b[1;32m    228\u001b[0m \u001b[39mself\u001b[39m\u001b[39m.\u001b[39m_extract_fields()\n\u001b[0;32m--> 229\u001b[0m \u001b[39mself\u001b[39;49m\u001b[39m.\u001b[39;49m_create_index()\n\u001b[1;32m    230\u001b[0m \u001b[39mself\u001b[39m\u001b[39m.\u001b[39m_create_search_params()\n\u001b[1;32m    231\u001b[0m \u001b[39mself\u001b[39m\u001b[39m.\u001b[39m_load()\n",
      "File \u001b[0;32m~/miniconda3/lib/python3.10/site-packages/langchain/vectorstores/milvus.py:324\u001b[0m, in \u001b[0;36mMilvus._create_index\u001b[0;34m(self)\u001b[0m\n\u001b[1;32m    321\u001b[0m \u001b[39m\u001b[39m\u001b[39m\"\"\"Create a index on the collection\"\"\"\u001b[39;00m\n\u001b[1;32m    322\u001b[0m \u001b[39mfrom\u001b[39;00m \u001b[39mpymilvus\u001b[39;00m \u001b[39mimport\u001b[39;00m Collection, MilvusException\n\u001b[0;32m--> 324\u001b[0m \u001b[39mif\u001b[39;00m \u001b[39misinstance\u001b[39m(\u001b[39mself\u001b[39m\u001b[39m.\u001b[39mcol, Collection) \u001b[39mand\u001b[39;00m \u001b[39mself\u001b[39;49m\u001b[39m.\u001b[39;49m_get_index() \u001b[39mis\u001b[39;00m \u001b[39mNone\u001b[39;00m:\n\u001b[1;32m    325\u001b[0m     \u001b[39mtry\u001b[39;00m:\n\u001b[1;32m    326\u001b[0m         \u001b[39m# If no index params, use a default HNSW based one\u001b[39;00m\n\u001b[1;32m    327\u001b[0m         \u001b[39mif\u001b[39;00m \u001b[39mself\u001b[39m\u001b[39m.\u001b[39mindex_params \u001b[39mis\u001b[39;00m \u001b[39mNone\u001b[39;00m:\n",
      "File \u001b[0;32m~/miniconda3/lib/python3.10/site-packages/langchain/vectorstores/milvus.py:315\u001b[0m, in \u001b[0;36mMilvus._get_index\u001b[0;34m(self)\u001b[0m\n\u001b[1;32m    312\u001b[0m \u001b[39mfrom\u001b[39;00m \u001b[39mpymilvus\u001b[39;00m \u001b[39mimport\u001b[39;00m Collection\n\u001b[1;32m    314\u001b[0m \u001b[39mif\u001b[39;00m \u001b[39misinstance\u001b[39m(\u001b[39mself\u001b[39m\u001b[39m.\u001b[39mcol, Collection):\n\u001b[0;32m--> 315\u001b[0m     \u001b[39mfor\u001b[39;00m x \u001b[39min\u001b[39;00m \u001b[39mself\u001b[39;49m\u001b[39m.\u001b[39;49mcol\u001b[39m.\u001b[39;49mindexes:\n\u001b[1;32m    316\u001b[0m         \u001b[39mif\u001b[39;00m x\u001b[39m.\u001b[39mfield_name \u001b[39m==\u001b[39m \u001b[39mself\u001b[39m\u001b[39m.\u001b[39m_vector_field:\n\u001b[1;32m    317\u001b[0m             \u001b[39mreturn\u001b[39;00m x\u001b[39m.\u001b[39mto_dict()\n",
      "File \u001b[0;32m~/miniconda3/lib/python3.10/site-packages/pymilvus/orm/collection.py:980\u001b[0m, in \u001b[0;36mCollection.indexes\u001b[0;34m(self, **kwargs)\u001b[0m\n\u001b[1;32m    978\u001b[0m conn \u001b[39m=\u001b[39m \u001b[39mself\u001b[39m\u001b[39m.\u001b[39m_get_connection()\n\u001b[1;32m    979\u001b[0m indexes \u001b[39m=\u001b[39m []\n\u001b[0;32m--> 980\u001b[0m tmp_index \u001b[39m=\u001b[39m conn\u001b[39m.\u001b[39;49mlist_indexes(\u001b[39mself\u001b[39;49m\u001b[39m.\u001b[39;49m_name, \u001b[39m*\u001b[39;49m\u001b[39m*\u001b[39;49mkwargs)\n\u001b[1;32m    981\u001b[0m \u001b[39mfor\u001b[39;00m index \u001b[39min\u001b[39;00m tmp_index:\n\u001b[1;32m    982\u001b[0m     \u001b[39mif\u001b[39;00m index \u001b[39mis\u001b[39;00m \u001b[39mnot\u001b[39;00m \u001b[39mNone\u001b[39;00m:\n",
      "File \u001b[0;32m~/miniconda3/lib/python3.10/site-packages/pymilvus/decorators.py:127\u001b[0m, in \u001b[0;36merror_handler.<locals>.wrapper.<locals>.handler\u001b[0;34m(*args, **kwargs)\u001b[0m\n\u001b[1;32m    125\u001b[0m     record_dict[\u001b[39m\"\u001b[39m\u001b[39mRPC error\u001b[39m\u001b[39m\"\u001b[39m] \u001b[39m=\u001b[39m \u001b[39mstr\u001b[39m(datetime\u001b[39m.\u001b[39mdatetime\u001b[39m.\u001b[39mnow())\n\u001b[1;32m    126\u001b[0m     LOGGER\u001b[39m.\u001b[39merror(\u001b[39mf\u001b[39m\u001b[39m\"\u001b[39m\u001b[39mRPC error: [\u001b[39m\u001b[39m{\u001b[39;00minner_name\u001b[39m}\u001b[39;00m\u001b[39m], \u001b[39m\u001b[39m{\u001b[39;00me\u001b[39m}\u001b[39;00m\u001b[39m, <Time:\u001b[39m\u001b[39m{\u001b[39;00mrecord_dict\u001b[39m}\u001b[39;00m\u001b[39m>\u001b[39m\u001b[39m\"\u001b[39m)\n\u001b[0;32m--> 127\u001b[0m     \u001b[39mraise\u001b[39;00m e \u001b[39mfrom\u001b[39;00m \u001b[39me\u001b[39;00m\n\u001b[1;32m    128\u001b[0m \u001b[39mexcept\u001b[39;00m grpc\u001b[39m.\u001b[39mFutureTimeoutError \u001b[39mas\u001b[39;00m e:\n\u001b[1;32m    129\u001b[0m     record_dict[\u001b[39m\"\u001b[39m\u001b[39mgRPC timeout\u001b[39m\u001b[39m\"\u001b[39m] \u001b[39m=\u001b[39m \u001b[39mstr\u001b[39m(datetime\u001b[39m.\u001b[39mdatetime\u001b[39m.\u001b[39mnow())\n",
      "File \u001b[0;32m~/miniconda3/lib/python3.10/site-packages/pymilvus/decorators.py:123\u001b[0m, in \u001b[0;36merror_handler.<locals>.wrapper.<locals>.handler\u001b[0;34m(*args, **kwargs)\u001b[0m\n\u001b[1;32m    121\u001b[0m \u001b[39mtry\u001b[39;00m:\n\u001b[1;32m    122\u001b[0m     record_dict[\u001b[39m\"\u001b[39m\u001b[39mRPC start\u001b[39m\u001b[39m\"\u001b[39m] \u001b[39m=\u001b[39m \u001b[39mstr\u001b[39m(datetime\u001b[39m.\u001b[39mdatetime\u001b[39m.\u001b[39mnow())\n\u001b[0;32m--> 123\u001b[0m     \u001b[39mreturn\u001b[39;00m func(\u001b[39m*\u001b[39;49margs, \u001b[39m*\u001b[39;49m\u001b[39m*\u001b[39;49mkwargs)\n\u001b[1;32m    124\u001b[0m \u001b[39mexcept\u001b[39;00m MilvusException \u001b[39mas\u001b[39;00m e:\n\u001b[1;32m    125\u001b[0m     record_dict[\u001b[39m\"\u001b[39m\u001b[39mRPC error\u001b[39m\u001b[39m\"\u001b[39m] \u001b[39m=\u001b[39m \u001b[39mstr\u001b[39m(datetime\u001b[39m.\u001b[39mdatetime\u001b[39m.\u001b[39mnow())\n",
      "File \u001b[0;32m~/miniconda3/lib/python3.10/site-packages/pymilvus/decorators.py:162\u001b[0m, in \u001b[0;36mtracing_request.<locals>.wrapper.<locals>.handler\u001b[0;34m(self, *args, **kwargs)\u001b[0m\n\u001b[1;32m    160\u001b[0m \u001b[39mif\u001b[39;00m req_id:\n\u001b[1;32m    161\u001b[0m     \u001b[39mself\u001b[39m\u001b[39m.\u001b[39mset_onetime_request_id(req_id)\n\u001b[0;32m--> 162\u001b[0m \u001b[39mreturn\u001b[39;00m func(\u001b[39mself\u001b[39;49m, \u001b[39m*\u001b[39;49margs, \u001b[39m*\u001b[39;49m\u001b[39m*\u001b[39;49mkwargs)\n",
      "File \u001b[0;32m~/miniconda3/lib/python3.10/site-packages/pymilvus/decorators.py:102\u001b[0m, in \u001b[0;36mretry_on_rpc_failure.<locals>.wrapper.<locals>.handler\u001b[0;34m(*args, **kwargs)\u001b[0m\n\u001b[1;32m    100\u001b[0m         back_off \u001b[39m=\u001b[39m \u001b[39mmin\u001b[39m(back_off \u001b[39m*\u001b[39m back_off_multiplier, max_back_off)\n\u001b[1;32m    101\u001b[0m     \u001b[39melse\u001b[39;00m:\n\u001b[0;32m--> 102\u001b[0m         \u001b[39mraise\u001b[39;00m e \u001b[39mfrom\u001b[39;00m \u001b[39me\u001b[39;00m\n\u001b[1;32m    103\u001b[0m \u001b[39mexcept\u001b[39;00m \u001b[39mException\u001b[39;00m \u001b[39mas\u001b[39;00m e:\n\u001b[1;32m    104\u001b[0m     \u001b[39mraise\u001b[39;00m e \u001b[39mfrom\u001b[39;00m \u001b[39me\u001b[39;00m\n",
      "File \u001b[0;32m~/miniconda3/lib/python3.10/site-packages/pymilvus/decorators.py:68\u001b[0m, in \u001b[0;36mretry_on_rpc_failure.<locals>.wrapper.<locals>.handler\u001b[0;34m(*args, **kwargs)\u001b[0m\n\u001b[1;32m     66\u001b[0m \u001b[39mwhile\u001b[39;00m \u001b[39mTrue\u001b[39;00m:\n\u001b[1;32m     67\u001b[0m     \u001b[39mtry\u001b[39;00m:\n\u001b[0;32m---> 68\u001b[0m         \u001b[39mreturn\u001b[39;00m func(\u001b[39m*\u001b[39;49margs, \u001b[39m*\u001b[39;49m\u001b[39m*\u001b[39;49mkwargs)\n\u001b[1;32m     69\u001b[0m     \u001b[39mexcept\u001b[39;00m grpc\u001b[39m.\u001b[39mRpcError \u001b[39mas\u001b[39;00m e:\n\u001b[1;32m     70\u001b[0m         \u001b[39m# Reference: https://grpc.github.io/grpc/python/grpc.html#grpc-status-code\u001b[39;00m\n\u001b[1;32m     71\u001b[0m         \u001b[39mif\u001b[39;00m e\u001b[39m.\u001b[39mcode() \u001b[39min\u001b[39;00m (\n\u001b[1;32m     72\u001b[0m             grpc\u001b[39m.\u001b[39mStatusCode\u001b[39m.\u001b[39mDEADLINE_EXCEEDED,\n\u001b[1;32m     73\u001b[0m             grpc\u001b[39m.\u001b[39mStatusCode\u001b[39m.\u001b[39mPERMISSION_DENIED,\n\u001b[0;32m   (...)\u001b[0m\n\u001b[1;32m     77\u001b[0m             grpc\u001b[39m.\u001b[39mStatusCode\u001b[39m.\u001b[39mRESOURCE_EXHAUSTED,\n\u001b[1;32m     78\u001b[0m         ):\n",
      "File \u001b[0;32m~/miniconda3/lib/python3.10/site-packages/pymilvus/client/grpc_handler.py:796\u001b[0m, in \u001b[0;36mGrpcHandler.list_indexes\u001b[0;34m(self, collection_name, timeout, **kwargs)\u001b[0m\n\u001b[1;32m    794\u001b[0m \u001b[39mif\u001b[39;00m status\u001b[39m.\u001b[39merror_code \u001b[39m==\u001b[39m Status\u001b[39m.\u001b[39mINDEX_NOT_EXIST:\n\u001b[1;32m    795\u001b[0m     \u001b[39mreturn\u001b[39;00m []\n\u001b[0;32m--> 796\u001b[0m \u001b[39mraise\u001b[39;00m MilvusException(status\u001b[39m.\u001b[39merror_code, status\u001b[39m.\u001b[39mreason)\n",
      "\u001b[0;31mMilvusException\u001b[0m: <MilvusException: (code=1, message=err: find no available indexcoord, check indexcoord state\n, /__w/milvus-lite/milvus-lite/milvus_binary/milvus/internal/util/trace/stack_trace.go:51 github.com/milvus-io/milvus/internal/util/trace.StackTrace\n/__w/milvus-lite/milvus-lite/milvus_binary/milvus/internal/util/grpcclient/client.go:352 github.com/milvus-io/milvus/internal/util/grpcclient.(*ClientBase[...]).ReCall\n/__w/milvus-lite/milvus-lite/milvus_binary/milvus/internal/distributed/indexcoord/client/client.go:208 github.com/milvus-io/milvus/internal/distributed/indexcoord/client.(*Client).DescribeIndex\n/__w/milvus-lite/milvus-lite/milvus_binary/milvus/internal/proxy/task_index.go:494 github.com/milvus-io/milvus/internal/proxy.(*describeIndexTask).Execute\n/__w/milvus-lite/milvus-lite/milvus_binary/milvus/internal/proxy/task_scheduler.go:470 github.com/milvus-io/milvus/internal/proxy.(*taskScheduler).processTask\n/__w/milvus-lite/milvus-lite/milvus_binary/milvus/internal/proxy/task_scheduler.go:499 github.com/milvus-io/milvus/internal/proxy.(*taskScheduler).definitionLoop\n/usr/local/go/src/runtime/asm_amd64.s:1571 runtime.goexit\n)>"
     ]
    }
   ],
   "source": [
    "from langchain.vectorstores import Milvus\n",
    "\n",
    "vector_db = Milvus.from_documents(\n",
    "    docs,\n",
    "    xinference_embeddings,\n",
    "    connection_args={\"host\": \"0.0.0.0\", \"port\": \"19530\"},\n",
    ")"
   ]
  },
  {
   "cell_type": "markdown",
   "metadata": {},
   "source": [
    "## Query about the Document"
   ]
  },
  {
   "cell_type": "code",
   "execution_count": 6,
   "metadata": {},
   "outputs": [
    {
     "name": "stdout",
     "output_type": "stream",
     "text": [
      "One of the most serious constitutional responsibilities a President has is nominating someone to serve on the United States Supreme Court. \n",
      "\n",
      "And I did that 4 days ago, when I nominated Circuit Court of Appeals Judge Ketanji Brown Jackson. One of our nation’s top legal minds, who will continue Justice Breyer’s legacy of excellence.\n"
     ]
    }
   ],
   "source": [
    "query = \"what does the president say about Ketanji Brown Jackson\"\n",
    "docs = vector_db.similarity_search(query, k=10)\n",
    "print(docs[0].page_content) "
   ]
  },
  {
   "cell_type": "markdown",
   "metadata": {},
   "source": [
    "### Model Inference Based on the Document"
   ]
  },
  {
   "cell_type": "markdown",
   "metadata": {},
   "source": [
    "Now, we use Llama 2 Chat model supported by Xinference for inference task. "
   ]
  },
  {
   "cell_type": "code",
   "execution_count": 7,
   "metadata": {},
   "outputs": [
    {
     "name": "stdout",
     "output_type": "stream",
     "text": [
      "Model uid: 333e1d68-3507-11ee-a0d6-fa163e74fa2d\n"
     ]
    }
   ],
   "source": [
    "!xinference launch --model-name \"llama-2-chat\" --model-format ggmlv3 --size-in-billions 70 -e \"http://127.0.0.1:56256\""
   ]
  },
  {
   "cell_type": "code",
   "execution_count": 17,
   "metadata": {},
   "outputs": [],
   "source": [
    "from langchain.llms import Xinference\n",
    "\n",
    "xinference_llm = Xinference(\n",
    "    server_url=\"http://127.0.0.1:56256\",\n",
    "    model_uid = \"333e1d68-3507-11ee-a0d6-fa163e74fa2d\" # model_uid is the uid returned from launching the model\n",
    ")"
   ]
  },
  {
   "cell_type": "markdown",
   "metadata": {},
   "source": [
    "First, we can query the LLM without using the document:"
   ]
  },
  {
   "cell_type": "code",
   "execution_count": 18,
   "metadata": {},
   "outputs": [
    {
     "data": {
      "text/plain": [
       "'\\nWhat did the president say about Ketanji Brown Jackson?\\nPresident Joe Biden called Judge Ketanji Brown Jackson a \"historic\" and \"inspiring\" nominee when he introduced her as his pick to replace retiring Supreme Court Justice Stephen Breyer. He highlighted her experience as a public defender and her commitment to justice and equality, saying that she would bring a unique perspective to the court.\\n\\nBiden also praised Jackson\\'s reputation for being a \"fair-minded\" and \"thoughtful\" jurist who is known for her ability to build'"
      ]
     },
     "execution_count": 18,
     "metadata": {},
     "output_type": "execute_result"
    }
   ],
   "source": [
    "xinference_llm(prompt=\"What did the president say about Ketanji Brown Jackson?\")"
   ]
  },
  {
   "cell_type": "markdown",
   "metadata": {},
   "source": [
    "We now query using the document to compare the result. We can create a memory object to track the chat history."
   ]
  },
  {
   "cell_type": "code",
   "execution_count": 19,
   "metadata": {},
   "outputs": [],
   "source": [
    "from langchain.memory import ConversationBufferMemory\n",
    "memory = ConversationBufferMemory(memory_key=\"chat_history\", return_messages=True)"
   ]
  },
  {
   "cell_type": "markdown",
   "metadata": {},
   "source": [
    "Now we create ConversationalRetrievalChain with chat model and the vectorstore."
   ]
  },
  {
   "cell_type": "code",
   "execution_count": 20,
   "metadata": {},
   "outputs": [],
   "source": [
    "from langchain.chains import ConversationalRetrievalChain\n",
    "\n",
    "chain = ConversationalRetrievalChain.from_llm(\n",
    "    llm=xinference_llm,\n",
    "    retriever=vector_db.as_retriever(),\n",
    "    memory=memory)"
   ]
  },
  {
   "cell_type": "markdown",
   "metadata": {},
   "source": [
    "Now, we can query information from the document. Instead of simply returning identical sentences from the document, the model generates responses by summarizing relevant content. Furthermore, it can relate a new query to the chat history, creating a chain of responses that build upon each other. "
   ]
  },
  {
   "cell_type": "code",
   "execution_count": 21,
   "metadata": {},
   "outputs": [
    {
     "data": {
      "text/plain": [
       "' According to the provided text, President Biden said that he nominated Circuit Court of Appeals Judge Ketanji Brown Jackson to serve on the United States Supreme Court 4 days ago, and that she is one of our nation’s top legal minds who will continue Justice Breyer’s legacy of excellence.'"
      ]
     },
     "execution_count": 21,
     "metadata": {},
     "output_type": "execute_result"
    }
   ],
   "source": [
    "query = \"What did the president say about Ketanji Brown Jackson\"\n",
    "result = chain({\"question\": query})\n",
    "result[\"answer\"]"
   ]
  },
  {
   "cell_type": "markdown",
   "metadata": {},
   "source": [
    "We can see that the LLM is capable of using the provided document to answer questions and summarize content. We can ask a few more questions:"
   ]
  },
  {
   "cell_type": "code",
   "execution_count": 22,
   "metadata": {},
   "outputs": [
    {
     "data": {
      "text/plain": [
       "'  According to the given text, President Biden said that Ketanji Brown Jackson succeeded Justice Breyer on the Supreme Court.'"
      ]
     },
     "execution_count": 22,
     "metadata": {},
     "output_type": "execute_result"
    }
   ],
   "source": [
    "query = \"Did he mention who she succeeded\"\n",
    "result = chain({\"question\": query})\n",
    "result[\"answer\"]"
   ]
  },
  {
   "cell_type": "markdown",
   "metadata": {},
   "source": [
    "The LLM accurately recognizes that \"he\" refers to \"the president\", and \"she\" refers to \"Ketanji Brown Jackson\" mentioned in the previous query. "
   ]
  },
  {
   "cell_type": "code",
   "execution_count": 24,
   "metadata": {},
   "outputs": [
    {
     "data": {
      "text/plain": [
       "'  According to the text, the president views COVID-19 as a \"God-awful disease\" and wants to move forward in addressing it in a unified manner, rather than allowing it to continue being a partisan dividing line.'"
      ]
     },
     "execution_count": 24,
     "metadata": {},
     "output_type": "execute_result"
    }
   ],
   "source": [
    "query = \"Summarize the President's opinion on COVID-19\"\n",
    "result = chain({\"question\": query})\n",
    "result['answer']"
   ]
  },
  {
   "cell_type": "markdown",
   "metadata": {},
   "source": [
    "We can see the impressive capabilities of the LLM, and LangChain's \"chaining\" feature also allows for more coherent and context-aware interactions with the model."
   ]
  }
 ],
 "metadata": {
  "kernelspec": {
   "display_name": "base",
   "language": "python",
   "name": "python3"
  },
  "language_info": {
   "codemirror_mode": {
    "name": "ipython",
    "version": 3
   },
   "file_extension": ".py",
   "mimetype": "text/x-python",
   "name": "python",
   "nbconvert_exporter": "python",
   "pygments_lexer": "ipython3",
   "version": "3.10.10"
  },
  "orig_nbformat": 4
 },
 "nbformat": 4,
 "nbformat_minor": 2
}
